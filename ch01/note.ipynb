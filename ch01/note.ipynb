{
 "cells": [
  {
   "cell_type": "markdown",
   "id": "cfd16fc9",
   "metadata": {},
   "source": [
    "이 파일은 1장을 학습하면서 실행한 내용을 정리한 것 입니다.\n",
    "\n",
    "날짜.2025.09.09\n",
    "\n",
    "저자 : 김민규"
   ]
  },
  {
   "cell_type": "code",
   "execution_count": null,
   "id": "82fc9085",
   "metadata": {},
   "outputs": [],
   "source": [
    "print('Hello World')\n"
   ]
  }
 ],
 "metadata": {
  "language_info": {
   "name": "python"
  }
 },
 "nbformat": 4,
 "nbformat_minor": 5
}
