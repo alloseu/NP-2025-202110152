{
 "cells": [
  {
   "cell_type": "markdown",
   "id": "65347bdd",
   "metadata": {},
   "source": [
    "이 파일은 1장의 연습문제를 작성한 파일입니다.\n",
    "\n",
    "날짜.2025.10.01\n",
    "\n",
    "저자 : 김민규(202110152)"
   ]
  },
  {
   "cell_type": "markdown",
   "id": "52870f05",
   "metadata": {},
   "source": [
    "연습문제 1. 밑변이 3이고 높이가 2인 삼각형의 넓이를 계산하라."
   ]
  },
  {
   "cell_type": "code",
   "execution_count": null,
   "id": "497e1ba9",
   "metadata": {},
   "outputs": [],
   "source": [
    "a = 3\n",
    "b = 2\n",
    "c = (a * bt) / 2\n",
    "print(\"삼각형의 넓이:\", c)"
   ]
  },
  {
   "cell_type": "markdown",
   "id": "082c831d",
   "metadata": {},
   "source": [
    "연습문제 2. 밑변이 5, 윗변이 3, 높이가 2인 사다리꼴의 넓이를 계산하라."
   ]
  },
  {
   "cell_type": "code",
   "execution_count": null,
   "id": "507e53e1",
   "metadata": {},
   "outputs": [],
   "source": [
    "top = 3\n",
    "bottom = 5\n",
    "height = 2\n",
    "area = (top + bottom) * height / 2\n",
    "print(\"사다리꼴의 넓이:\", area)"
   ]
  }
 ],
 "metadata": {
  "language_info": {
   "name": "python"
  }
 },
 "nbformat": 4,
 "nbformat_minor": 5
}
