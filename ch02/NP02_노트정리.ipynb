{
 "cells": [
  {
   "cell_type": "markdown",
   "id": "cfd16fc9",
   "metadata": {},
   "source": [
    "이 파일은 2장을 학습하면서 실행한 내용을 정리한 것 입니다.\n",
    "\n",
    "날짜.2025.09.09\n",
    "\n",
    "저자 : 김민규(202110152)"
   ]
  },
  {
   "cell_type": "markdown",
   "id": "b2bc375a",
   "metadata": {},
   "source": [
    "기본 입출력 함수"
   ]
  },
  {
   "cell_type": "markdown",
   "id": "5a4246e6",
   "metadata": {},
   "source": [
    "\n",
    "print() 함수\n",
    "-숫자나 문자열 등의 데이터나 수실을 화면에 출력할 때 사용한다\n",
    "\n",
    "아래와 같은 방식을 통해 여러가지 방식으로 출력 할 수 있다."
   ]
  },
  {
   "cell_type": "code",
   "execution_count": 1,
   "id": "6e33a4bd",
   "metadata": {},
   "outputs": [
    {
     "name": "stdout",
     "output_type": "stream",
     "text": [
      "98\n",
      "서원대학교\n",
      "abc abc abc \n",
      "85 5\n",
      "85 + 5 = 90\n"
     ]
    }
   ],
   "source": [
    "print(8+90) # 괄호 속 의 연산결과 출력\n",
    "print(\"서원대학교\") #문자열 출력\n",
    "print(\"abc \" * 3) #문자열을 3번 출력\n",
    "\n",
    "x = 85\n",
    "y = 5\n",
    "z = x + y\n",
    "print(x, y) #변수x, y 의값을 출력\n",
    "print(x, '+', y, '=',z) #문자열과 변수의 조합 출력"
   ]
  },
  {
   "cell_type": "code",
   "execution_count": null,
   "id": "3d8bb6f4",
   "metadata": {},
   "outputs": [],
   "source": [
    "print() 함수의 서식 지정\n",
    "숫자 혹은 문자열등의 데이터를 서식을 지정하여 화면에 출력할 때 사용한다\n",
    "\n",
    "서식의 예시 \n",
    "%d 10진수 정수로 출력\n",
    "%f 실수로 출력\n",
    "%s 문자열로 출력\n",
    "%c 한글자 출력\n",
    "%x 16진수 정수로 출력\n",
    "%o 8진수 정수로 출력"
   ]
  },
  {
   "cell_type": "code",
   "execution_count": 4,
   "id": "16dd3d7b",
   "metadata": {},
   "outputs": [
    {
     "ename": "SyntaxError",
     "evalue": "invalid syntax. Maybe you meant '==' or ':=' instead of '='? (521051144.py, line 9)",
     "output_type": "error",
     "traceback": [
      "  \u001b[36mCell\u001b[39m\u001b[36m \u001b[39m\u001b[32mIn[4]\u001b[39m\u001b[32m, line 9\u001b[39m\n\u001b[31m    \u001b[39m\u001b[31mm=5.2, n=10\u001b[39m\n    ^\n\u001b[31mSyntaxError\u001b[39m\u001b[31m:\u001b[39m invalid syntax. Maybe you meant '==' or ':=' instead of '='?\n"
     ]
    }
   ],
   "source": [
    "#사용 예시\n",
    "print(10+20)\n",
    "print(\"10\"+\"20\") #문자열잇기 print(\"abc \" * 3) #문자열3번출력\n",
    " \n",
    "n = 10\n",
    "print(\"n=%d\" %n) #서식지정출력\n",
    "m = 5.2\n",
    "print(\"m=%.1f, n=%d\" %(m,n)) #%.1f = 소솟점1자리까지표시\n",
    "m=5.2, n=10"
   ]
  },
  {
   "cell_type": "code",
   "execution_count": null,
   "id": "357c44f0",
   "metadata": {},
   "outputs": [],
   "source": []
  }
 ],
 "metadata": {
  "kernelspec": {
   "display_name": "Python 3",
   "language": "python",
   "name": "python3"
  },
  "language_info": {
   "codemirror_mode": {
    "name": "ipython",
    "version": 3
   },
   "file_extension": ".py",
   "mimetype": "text/x-python",
   "name": "python",
   "nbconvert_exporter": "python",
   "pygments_lexer": "ipython3",
   "version": "3.13.7"
  }
 },
 "nbformat": 4,
 "nbformat_minor": 5
}
