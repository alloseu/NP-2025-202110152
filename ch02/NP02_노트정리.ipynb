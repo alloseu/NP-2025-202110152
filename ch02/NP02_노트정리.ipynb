{
 "cells": [
  {
   "cell_type": "markdown",
   "id": "cfd16fc9",
   "metadata": {},
   "source": [
    "이 파일은 2장을 학습하면서 실행한 내용을 정리한 것 입니다.\n",
    "\n",
    "날짜.2025.09.09\n",
    "\n",
    "저자 : 김민규(202110152)"
   ]
  },
  {
   "cell_type": "markdown",
   "id": "b2bc375a",
   "metadata": {},
   "source": [
    "기본 입출력 함수\n",
    "(print,input)"
   ]
  },
  {
   "cell_type": "markdown",
   "id": "5a4246e6",
   "metadata": {},
   "source": [
    "\n",
    "print() 함수\n",
    "-숫자나 문자열 등의 데이터나 수실을 화면에 출력할 때 사용한다\n",
    "\n",
    "아래와 같은 방식을 통해 여러가지 방식으로 출력 할 수 있다."
   ]
  },
  {
   "cell_type": "code",
   "execution_count": 9,
   "id": "6e33a4bd",
   "metadata": {},
   "outputs": [
    {
     "name": "stdout",
     "output_type": "stream",
     "text": [
      "98\n",
      "서원대학교\n",
      "abc abc abc \n",
      "85 5\n",
      "85 + 5 = 90\n"
     ]
    }
   ],
   "source": [
    "print(8+90) # 괄호 속 의 연산결과 출력\n",
    "print(\"서원대학교\") #문자열 출력\n",
    "print(\"abc \" * 3) #문자열을 3번 출력\n",
    "\n",
    "x = 85\n",
    "y = 5\n",
    "z = x + y\n",
    "print(x, y) #변수x, y 의값을 출력\n",
    "print(x, '+', y, '=',z) #문자열과 변수의 조합 출력"
   ]
  },
  {
   "cell_type": "code",
   "execution_count": null,
   "id": "16dd3d7b",
   "metadata": {},
   "outputs": [
    {
     "name": "stdout",
     "output_type": "stream",
     "text": [
      "30\n",
      "1020\n",
      "n=10\n",
      "m=5.2, n=10\n"
     ]
    }
   ],
   "source": [
    "#사용 예시\n",
    "print(10+20)\n",
    "print(\"10\"+\"20\") #문자열잇기 print(\"abc \" * 3) #문자열3번출력\n",
    " \n",
    "n = 10\n",
    "print(\"n=%d\" %n) #서식지정출력\n",
    "m = 5.2\n",
    "print(\"m=%.1f, n=%d\" %(m,n)) #%.1f = 소솟점1자리까지표시\n"
   ]
  },
  {
   "cell_type": "markdown",
   "id": "e7aeb099",
   "metadata": {},
   "source": [
    "input() 함수"
   ]
  },
  {
   "cell_type": "markdown",
   "id": "9435ed68",
   "metadata": {},
   "source": [
    "키보드를 이용하여 숫자 혹은 문자열 등의 데이터를 입력 받을때 주로 사용"
   ]
  },
  {
   "cell_type": "code",
   "execution_count": null,
   "id": "a4c91114",
   "metadata": {},
   "outputs": [
    {
     "name": "stdout",
     "output_type": "stream",
     "text": [
      "Hello,fhf\n",
      "4\n",
      "4\n",
      "화씨온도는 75.2\n",
      "화씨온도는 75.2\n"
     ]
    }
   ],
   "source": [
    "#입출력 함수의 사용 예\n",
    "\n",
    "#문자열을 입력 받아 다른 문자열과 결합하여 출력\n",
    "name = input('Name: ') \n",
    "print(\"Hello,\" + name)\n",
    "\n",
    "#두 정수를 입력받아 곱셈 결과를 출력\n",
    "a = int(input('Number 1: '))\n",
    "b = int(input('Number 2: '))\n",
    "print(a * b)\n",
    "\n",
    "#섭시온도를 입력받아 화씨 온도로 바꾸어 출력\n",
    "C = float(input(\"Type 섭씨온도 : \")) \n",
    "F = C*9/5 + 32 #온도 변환\n",
    "print(\"화씨온도는\", F)"
   ]
  },
  {
   "cell_type": "markdown",
   "id": "32b8f3b4",
   "metadata": {},
   "source": [
    "1. 지정 연산자 (=)\n",
    "\n",
    "2. 산술 연산자 (+,-,*,/, //(정수나눗셈), %(나머지 연산))\n",
    "\n",
    "3. 관계 연산자 - 항의 대소관계 또는 동등관계 판정 (연산 결과는 True 혹은 False로 구분)\n",
    "print(a >= 90) \n",
    "print(b < 80)\n",
    "print(c == 90) \n",
    "print(d != 80)\n",
    "\n",
    "\n",
    "4. 논리연산자 - and, or, not 등의 논리 연산에 사용되며 대상과 결과 모두 True 혹은 False다\n",
    "```\n",
    "x and y (x와 y가 모두 참일때만 결과가 참)\n",
    "x or y (둘중 하나라도 참일 경우 참)\n",
    "not x (x가 참일경우 결과는 거짓, 그 반대의 경우에는 참)\n",
    "```\n"
   ]
  },
  {
   "cell_type": "markdown",
   "id": "dd60e77f",
   "metadata": {},
   "source": [
    "멤버 연산자(in) - 특정 문자열 또는 값이 문자열 또는 리스트에 속해 있는지를 판별하는 연산자다\n",
    "\n",
    "식별 연산자(is, is not) \n",
    "```\n",
    "is = 양쪽 변수의 주소가 같은지 판단\n",
    "is not = 양쪽 변수의 주소가 다른지 판단"
   ]
  },
  {
   "cell_type": "markdown",
   "id": "0f5ec081",
   "metadata": {},
   "source": [
    "문자열 - 문자들을 나열한 모습을 보여주며 \"\" 혹은 '' 를 사용한다"
   ]
  }
 ],
 "metadata": {
  "kernelspec": {
   "display_name": "Python 3",
   "language": "python",
   "name": "python3"
  },
  "language_info": {
   "codemirror_mode": {
    "name": "ipython",
    "version": 3
   },
   "file_extension": ".py",
   "mimetype": "text/x-python",
   "name": "python",
   "nbconvert_exporter": "python",
   "pygments_lexer": "ipython3",
   "version": "3.13.7"
  }
 },
 "nbformat": 4,
 "nbformat_minor": 5
}
