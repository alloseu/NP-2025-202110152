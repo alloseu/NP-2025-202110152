{
 "cells": [
  {
   "cell_type": "markdown",
   "id": "d54354fe",
   "metadata": {},
   "source": [
    "이 파일은 2장의 연습문제1을 작성한 파일입니다\n",
    "\n",
    "이름 : 김민규 (202110152)"
   ]
  },
  {
   "cell_type": "markdown",
   "id": "abeb9eac",
   "metadata": {},
   "source": [
    "연습문제 1-1 \n",
    "(키보드에서 임의의 두 실수를 입력받아 곱한 후 그 결과를 출력하는 프로그램을 작성하고 실행하라.)"
   ]
  },
  {
   "cell_type": "code",
   "execution_count": null,
   "id": "697b4e96",
   "metadata": {},
   "outputs": [],
   "source": [
    "num1 = float(input('첫 번째 실수를 입력하세요: '))\n",
    "num2 = float(input('두 번째 실수를 입력하세요: '))\n",
    "result = num1 * num2\n",
    "print('두 수의 곱은:', result)"
   ]
  },
  {
   "cell_type": "markdown",
   "id": "80ee4d8d",
   "metadata": {},
   "source": [
    "연습문제 1-2\n",
    "(1마일은 1.609km이다. 키보드에서 마일(정수)를 입력 받아 km로 변환해 출력하는 프로그램을 작성하고 실행하라)"
   ]
  },
  {
   "cell_type": "code",
   "execution_count": 3,
   "id": "e890c83c",
   "metadata": {},
   "outputs": [
    {
     "name": "stdout",
     "output_type": "stream",
     "text": [
      "5 마일은 8.045 킬로미터입니다.\n"
     ]
    }
   ],
   "source": [
    "mile = int(input('마일을 입력하세요: '))\n",
    "km = mile * 1.609\n",
    "print(mile, '마일은', km, '킬로미터입니다.')"
   ]
  },
  {
   "cell_type": "markdown",
   "id": "621f7c26",
   "metadata": {},
   "source": [
    "연습문제 1-3\n",
    "(원의 반지름을 입력받아 원의 둘레와 원의 면적을 출력하는 프로그램을 작성하라)"
   ]
  },
  {
   "cell_type": "code",
   "execution_count": 2,
   "id": "d76733e1",
   "metadata": {},
   "outputs": [
    {
     "name": "stdout",
     "output_type": "stream",
     "text": [
      "원의 둘레: 12.566368\n",
      "원의 면적: 12.56\n"
     ]
    }
   ],
   "source": [
    "radius = float(input('원의 반지름을 입력하세요: '))\n",
    "circumference = 2 * 3.141592 * radius\n",
    "area = 3.14 * radius ** 2\n",
    "print('원의 둘레:', circumference)\n",
    "print('원의 면적:', area)"
   ]
  }
 ],
 "metadata": {
  "kernelspec": {
   "display_name": "Python 3",
   "language": "python",
   "name": "python3"
  },
  "language_info": {
   "codemirror_mode": {
    "name": "ipython",
    "version": 3
   },
   "file_extension": ".py",
   "mimetype": "text/x-python",
   "name": "python",
   "nbconvert_exporter": "python",
   "pygments_lexer": "ipython3",
   "version": "3.13.7"
  }
 },
 "nbformat": 4,
 "nbformat_minor": 5
}
