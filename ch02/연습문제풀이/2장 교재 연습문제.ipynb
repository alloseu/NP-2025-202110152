{
 "cells": [
  {
   "cell_type": "markdown",
   "id": "30a4d6b0",
   "metadata": {},
   "source": [
    "이 파일은 2장의 연습문제를 작성한 파일입니다.\n",
    "\n",
    "날짜.2025.10.01\n",
    "\n",
    "저자 : 김민규(202110152)"
   ]
  },
  {
   "cell_type": "markdown",
   "id": "a2be2019",
   "metadata": {},
   "source": [
    "연습문제 1. 자동차의 연료 효율을 미국식(mile/gallon)에서 한국식(km/l)으로 바꾸는 프로그램을 작성하라. (단 1마일은 1.6km이고, 1갤런은 3.8754리터이다.) 마일수와 갤런 수를 입력받는다."
   ]
  },
  {
   "cell_type": "code",
   "execution_count": null,
   "id": "9903c67c",
   "metadata": {},
   "outputs": [],
   "source": [
    "MILE_TO_KM = 1.6\n",
    "GALLON_TO_LITER = 3.8754\n",
    "\n",
    "miles = float(input(\"주행한 마일 수를 입력하세요: \"))\n",
    "gallons = float(input(\"사용한 갤런 수를 입력하세요: \"))\n",
    "\n",
    "mpg = miles / gallons\n",
    "km_per_liter = (miles * MILE_TO_KM) / (gallons * GALLON_TO_LITER)\n",
    "\n",
    "print(f\"미국식 연비: {mpg:.2f} mile/gallon\")\n",
    "print(f\"한국식 연비: {km_per_liter:.2f} km/l\")"
   ]
  },
  {
   "cell_type": "markdown",
   "id": "096dd634",
   "metadata": {},
   "source": [
    "연습문제 2. 산술연산자를 이용하여 임의의 주어진 초를 분으로 바꾸는 프로그램"
   ]
  },
  {
   "cell_type": "code",
   "execution_count": null,
   "id": "bb6a2ae0",
   "metadata": {},
   "outputs": [],
   "source": [
    "seconds = int(input(\"변환할 초를 입력하세요: \"))\n",
    "minutes = seconds // 60  \n",
    "remaining_seconds = seconds % 60  \n",
    "\n",
    "print(f\"{seconds}초는 {minutes}분 {remaining_seconds}초입니다.\")"
   ]
  },
  {
   "cell_type": "markdown",
   "id": "6d43bd65",
   "metadata": {},
   "source": [
    "연습문제 3. 임의의 주어진 분을 입력받고, 그분에 해당하는 날짜와 나머지 시간과 나머지 분을 출력하는 프로그램을 만들어라. (예: 1550분은 1일 1시간 50분)"
   ]
  },
  {
   "cell_type": "code",
   "execution_count": null,
   "id": "712fbb90",
   "metadata": {},
   "outputs": [],
   "source": [
    "total_minutes = int(input(\"시간(분) 입력하세요: \"))\n",
    "\n",
    "days = total_minutes // (24 * 60)  \n",
    "remaining_minutes = total_minutes % (24 * 60)\n",
    "hours = remaining_minutes // 60\n",
    "minutes = remaining_minutes % 60\n",
    "\n",
    "print(f\"{total_minutes}분은 {days}일 {hours}시간 {minutes}분입니다.\")"
   ]
  },
  {
   "cell_type": "markdown",
   "id": "b0ff1f37",
   "metadata": {},
   "source": [
    "연습문제 4. 500만원을 연이율 5%로 저금했을 때 1년 후의 원리금의 합계를 출력하는 프로그램을 작성하라"
   ]
  },
  {
   "cell_type": "code",
   "execution_count": null,
   "id": "31345dcc",
   "metadata": {},
   "outputs": [],
   "source": [
    "principal = 5000000  \n",
    "interest_rate = 0.05 \n",
    "\n",
    "interest = principal * interest_rate\n",
    "total_amount = principal + interest\n",
    "\n",
    "print(f\"1년 후의 원리금 합계는 {total_amount:,.0f}원입니다.\")"
   ]
  },
  {
   "cell_type": "markdown",
   "id": "5d5c5487",
   "metadata": {},
   "source": [
    "연습문제 5. IDLE에서 임의의 exam, report 점수를 입력받아, exam 점수가 90점 이상이거나 report점수가 90점 이상이면 A학점이라고 출력하는 프로그램"
   ]
  },
  {
   "cell_type": "code",
   "execution_count": null,
   "id": "dfeb9e74",
   "metadata": {},
   "outputs": [],
   "source": [
    "exam = int(input(\"시험 점수를 입력하세요: \"))\n",
    "report = int(input(\"보고서 점수를 입력하세요: \"))\n",
    "\n",
    "if exam >= 90 or report >= 90:\n",
    "    print(\"A학점입니다.\")\n",
    "else:\n",
    "    print(\"A학점이 아닙니다.\")"
   ]
  },
  {
   "cell_type": "markdown",
   "id": "efdc7b83",
   "metadata": {},
   "source": [
    "연습문제 6. 1부터 n까지의 합은 n(n+1)/2로 주어진다. 1부터 100까지의 합을 구하여 출력하는 프로그램을 작성하고 실행하라"
   ]
  },
  {
   "cell_type": "code",
   "execution_count": null,
   "id": "ce34e866",
   "metadata": {},
   "outputs": [],
   "source": [
    "n = 100\n",
    "total = n * (n + 1) // 2  \n",
    "\n",
    "print(f\"1부터 {n}까지의 합은 {total}입니다.\")"
   ]
  },
  {
   "cell_type": "markdown",
   "id": "5d1d66c8",
   "metadata": {},
   "source": [
    "연습문제 7. 판매자가 딸기와 포도를 판매하고 있다. 포도 한 알의 무게는 75g이고 딸기 한 알의 무게는 113.5g이다. 사용자로부터 포도알의 개수와 딸기의 개수를 입력받아 총 무게를 계산하여 출력하는 프로그램을 작성하여 실행하라."
   ]
  },
  {
   "cell_type": "code",
   "execution_count": null,
   "id": "392e247e",
   "metadata": {},
   "outputs": [],
   "source": [
    "grape = 75        \n",
    "strawberry = 113.5  \n",
    "\n",
    "grape_count = int(input(\"포도알의 개수를 입력하세요: \"))\n",
    "strawberry_count = int(input(\"딸기의 개수를 입력하세요: \"))\n",
    "total = (grape_count * grape) + (strawberry_count * strawberryt)\n",
    "\n",
    "print(f\"총 무게는 {total:.1f}g입니다.\")"
   ]
  }
 ],
 "metadata": {
  "language_info": {
   "name": "python"
  }
 },
 "nbformat": 4,
 "nbformat_minor": 5
}
