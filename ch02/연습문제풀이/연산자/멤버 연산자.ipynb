{
 "cells": [
  {
   "cell_type": "markdown",
   "id": "d69b56f1",
   "metadata": {},
   "source": [
    "이 파일은 2장의 멤버 연산자 연습문제를 작성한 파일입니다\n",
    "\n",
    "이름 : 김민규 (202110152)"
   ]
  },
  {
   "cell_type": "code",
   "execution_count": null,
   "id": "3260fe67",
   "metadata": {},
   "outputs": [],
   "source": []
  },
  {
   "cell_type": "markdown",
   "id": "0518f8c5",
   "metadata": {},
   "source": [
    "연습문제 1\n",
    "(숫자7이 리스트[1, 2, 3, 4, 5]에 포함되어 있는지 검사하는 프로그램을 작성하라.)"
   ]
  },
  {
   "cell_type": "code",
   "execution_count": null,
   "id": "e88f69ef",
   "metadata": {},
   "outputs": [],
   "source": []
  },
  {
   "cell_type": "markdown",
   "id": "7216ca77",
   "metadata": {},
   "source": [
    "연습문제 2\n",
    "(문자열\"apple\"이 세트{\"orange\", \"banana\", \"kiwi\"}에 포함되어 있는지 검사하는 프로그램을 작성하라.)"
   ]
  },
  {
   "cell_type": "code",
   "execution_count": null,
   "id": "5baa6357",
   "metadata": {},
   "outputs": [],
   "source": []
  },
  {
   "cell_type": "markdown",
   "id": "b63698dd",
   "metadata": {},
   "source": [
    "연습문제 3\n",
    "(숫자6이 딕셔너리 {\"a\": 1, \"b\": 2, \"c\": 3, \"d\": 4}의 값들 중 하나인지 검사하는 프로그램을 작성하라.)"
   ]
  },
  {
   "cell_type": "code",
   "execution_count": null,
   "id": "45d07f4e",
   "metadata": {},
   "outputs": [],
   "source": []
  },
  {
   "cell_type": "markdown",
   "id": "43045164",
   "metadata": {},
   "source": [
    "연습문제 4\n",
    "(문자열\"cat\"이 튜플(\"dog\", \"cat\", \"bird\", \"hamster\")에 포함되어 있는지 검사하는 프로그램을 작성하라.)"
   ]
  },
  {
   "cell_type": "code",
   "execution_count": null,
   "id": "f133e891",
   "metadata": {},
   "outputs": [],
   "source": []
  },
  {
   "cell_type": "markdown",
   "id": "2113b27d",
   "metadata": {},
   "source": [
    "연습문제 5\n",
    "(숫자10이 세트{2, 4, 6, 8, 10}에 포함되어 있는지 검사하는 프로그램을 작성하라.)"
   ]
  },
  {
   "cell_type": "code",
   "execution_count": null,
   "id": "d69f7932",
   "metadata": {},
   "outputs": [],
   "source": []
  }
 ],
 "metadata": {
  "language_info": {
   "name": "python"
  }
 },
 "nbformat": 4,
 "nbformat_minor": 5
}
