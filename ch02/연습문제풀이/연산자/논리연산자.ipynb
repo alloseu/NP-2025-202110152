{
 "cells": [
  {
   "cell_type": "markdown",
   "id": "40815a57",
   "metadata": {},
   "source": [
    "이 파일은 2장의 논리연산자 연습문제를 작성한 파일입니다\n",
    "\n",
    "이름 : 김민규 (202110152)"
   ]
  }
 ],
 "metadata": {
  "language_info": {
   "name": "python"
  }
 },
 "nbformat": 4,
 "nbformat_minor": 5
}
