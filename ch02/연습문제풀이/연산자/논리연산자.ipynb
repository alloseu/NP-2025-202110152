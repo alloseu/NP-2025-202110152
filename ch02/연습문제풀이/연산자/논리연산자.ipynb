{
 "cells": [
  {
   "cell_type": "markdown",
   "id": "40815a57",
   "metadata": {},
   "source": [
    "이 파일은 2장의 논리연산자 연습문제를 작성한 파일입니다\n",
    "\n",
    "이름 : 김민규 (202110152)"
   ]
  },
  {
   "cell_type": "markdown",
   "id": "2d0db3d2",
   "metadata": {},
   "source": [
    "1. 5가 3보다 크고 7보다 작은지 검사하는 프로그램을 작성하라.\n"
   ]
  },
  {
   "cell_type": "code",
   "execution_count": 1,
   "id": "5199adf1",
   "metadata": {},
   "outputs": [
    {
     "name": "stdout",
     "output_type": "stream",
     "text": [
      "1. 5는 3보다 크고 7보다 작습니다.\n"
     ]
    }
   ],
   "source": [
    "if 3 < 5 < 7:\n",
    "    print(\"1. 5는 3보다 크고 7보다 작습니다.\")\n",
    "else:\n",
    "    print(\"1. 조건을 만족하지 않습니다.\")"
   ]
  },
  {
   "cell_type": "markdown",
   "id": "b925531a",
   "metadata": {},
   "source": [
    "2. 변수 x가 10 이상이고 20 이하인지 검사하는 프로그램을 작성하라."
   ]
  },
  {
   "cell_type": "code",
   "execution_count": 2,
   "id": "8ee83188",
   "metadata": {},
   "outputs": [
    {
     "name": "stdout",
     "output_type": "stream",
     "text": [
      "2. x는 10 이상이고 20 이하입니다.\n"
     ]
    }
   ],
   "source": [
    "x = 15  \n",
    "if 10 <= x <= 20:\n",
    "    print(\"2. x는 10 이상이고 20 이하입니다.\")\n",
    "else:\n",
    "    print(\"2. x는 조건을 만족하지 않습니다.\")"
   ]
  },
  {
   "cell_type": "markdown",
   "id": "2787673a",
   "metadata": {},
   "source": [
    "3. 변수 y가 5의 배수이거나 7의 배수인지 검사하는 프로그램을 작성하라."
   ]
  },
  {
   "cell_type": "code",
   "execution_count": 3,
   "id": "223c5b6d",
   "metadata": {},
   "outputs": [
    {
     "name": "stdout",
     "output_type": "stream",
     "text": [
      "3. y는 5의 배수이거나 7의 배수입니다.\n"
     ]
    }
   ],
   "source": [
    "y = 21  \n",
    "if y % 5 == 0 or y % 7 == 0:\n",
    "    print(\"3. y는 5의 배수이거나 7의 배수입니다.\")\n",
    "else:\n",
    "    print(\"3. y는 조건을 만족하지 않습니다.\")"
   ]
  },
  {
   "cell_type": "markdown",
   "id": "69248536",
   "metadata": {},
   "source": [
    "4. 변수 z가 양수이면서 짝수인지 검사하는 프로그램을 작성하라."
   ]
  },
  {
   "cell_type": "code",
   "execution_count": 4,
   "id": "f07b15f7",
   "metadata": {},
   "outputs": [
    {
     "name": "stdout",
     "output_type": "stream",
     "text": [
      "4. z는 양수이면서 짝수입니다.\n"
     ]
    }
   ],
   "source": [
    "z = 8  \n",
    "if z > 0 and z % 2 == 0:\n",
    "    print(\"4. z는 양수이면서 짝수입니다.\")\n",
    "else:\n",
    "    print(\"4. z는 조건을 만족하지 않습니다.\")"
   ]
  },
  {
   "cell_type": "markdown",
   "id": "b6fd72a2",
   "metadata": {},
   "source": [
    "5. 변수 a가 문자열 \"hello\"나 문자열 \"world\" 중 하나인지 검사하는 프로그램을 작성하라."
   ]
  },
  {
   "cell_type": "code",
   "execution_count": 5,
   "id": "60f345fd",
   "metadata": {},
   "outputs": [
    {
     "name": "stdout",
     "output_type": "stream",
     "text": [
      "5. a는 'hello' 또는 'world'입니다.\n"
     ]
    }
   ],
   "source": [
    "a = \"hello\"  \n",
    "if a == \"hello\" or a == \"world\":\n",
    "    print(\"5. a는 'hello' 또는 'world'입니다.\")\n",
    "else:\n",
    "    print(\"5. a는 조건을 만족하지 않습니다.\")"
   ]
  }
 ],
 "metadata": {
  "kernelspec": {
   "display_name": "Python 3",
   "language": "python",
   "name": "python3"
  },
  "language_info": {
   "codemirror_mode": {
    "name": "ipython",
    "version": 3
   },
   "file_extension": ".py",
   "mimetype": "text/x-python",
   "name": "python",
   "nbconvert_exporter": "python",
   "pygments_lexer": "ipython3",
   "version": "3.13.7"
  }
 },
 "nbformat": 4,
 "nbformat_minor": 5
}
