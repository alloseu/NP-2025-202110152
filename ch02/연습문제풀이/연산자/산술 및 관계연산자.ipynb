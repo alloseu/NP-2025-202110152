{
 "cells": [
  {
   "cell_type": "markdown",
   "id": "44cc52b6",
   "metadata": {},
   "source": [
    "이 파일은 2장의 산술 및 관계 연산자 연습문제를 작성한 파일입니다\n",
    "\n",
    "이름 : 김민규 (202110152)"
   ]
  },
  {
   "cell_type": "markdown",
   "id": "b75fb0ab",
   "metadata": {},
   "source": [
    "1. 5와 3을 더한 값을 출력하는 프로그램을 작성하라."
   ]
  },
  {
   "cell_type": "code",
   "execution_count": null,
   "id": "449a13be",
   "metadata": {},
   "outputs": [],
   "source": [
    "print(5 + 3)"
   ]
  },
  {
   "cell_type": "markdown",
   "id": "3c079f3b",
   "metadata": {},
   "source": [
    " 2. 7에서 3을 뺀 값을 출력하는 프로그램을 작성하라."
   ]
  },
  {
   "cell_type": "code",
   "execution_count": null,
   "id": "75f7440e",
   "metadata": {},
   "outputs": [],
   "source": [
    "print(7 - 3)"
   ]
  },
  {
   "cell_type": "markdown",
   "id": "78ae8971",
   "metadata": {},
   "source": [
    " 3. 4를 2로 나눈 값을 출력하는 프로그램을 작성하라."
   ]
  },
  {
   "cell_type": "code",
   "execution_count": null,
   "id": "c8bc6fd3",
   "metadata": {},
   "outputs": [],
   "source": [
    "print(4 / 2)"
   ]
  },
  {
   "cell_type": "markdown",
   "id": "be5f1a95",
   "metadata": {},
   "source": [
    " 4. 8을 3으로 나눈 몫과 나머지를 출력하는 프로그램을 작성하라."
   ]
  },
  {
   "cell_type": "code",
   "execution_count": null,
   "id": "1dd554e8",
   "metadata": {},
   "outputs": [],
   "source": [
    "print(\"몫:\", 8 // 3)\n",
    "print(\"나머지:\", 8 % 3)"
   ]
  },
  {
   "cell_type": "markdown",
   "id": "7745b5ca",
   "metadata": {},
   "source": [
    " 5. 2의 5제곱을 출력하는 프로그램을 작성하라."
   ]
  },
  {
   "cell_type": "code",
   "execution_count": null,
   "id": "034e89db",
   "metadata": {},
   "outputs": [],
   "source": [
    "print(2 ** 5)"
   ]
  },
  {
   "cell_type": "markdown",
   "id": "884c2705",
   "metadata": {},
   "source": [
    " 6. 입력된 정수가 10보다 크고 20보다 작은지 검사하는 프로그램을 작성하라."
   ]
  },
  {
   "cell_type": "code",
   "execution_count": null,
   "id": "43beb84a",
   "metadata": {},
   "outputs": [],
   "source": [
    "n = int(input(\"정수를 입력하세요: \"))\n",
    "print(10 < n < 20)"
   ]
  },
  {
   "cell_type": "markdown",
   "id": "e481f120",
   "metadata": {},
   "source": [
    " 7. 문자열 \"hello\" 와 문자열\"world\"를 이어붙인 결과를 출력하는 프로그램을 작성하라."
   ]
  },
  {
   "cell_type": "code",
   "execution_count": null,
   "id": "a4eb2b70",
   "metadata": {},
   "outputs": [],
   "source": [
    "print(\"hello\" + \"world\")"
   ]
  },
  {
   "cell_type": "markdown",
   "id": "99c117e0",
   "metadata": {},
   "source": [
    " 8. 7을 2로 나눈 결과가 3보다 작은지 검사하는 프로그램을 작성하라."
   ]
  },
  {
   "cell_type": "code",
   "execution_count": null,
   "id": "02e5b4fd",
   "metadata": {},
   "outputs": [],
   "source": [
    "print((7 / 2) < 3)"
   ]
  },
  {
   "cell_type": "markdown",
   "id": "7ccede84",
   "metadata": {},
   "source": [
    " 9. 변수 x의 값이 5와 같지 않은지 검사하는 프로그램을 작성하라."
   ]
  },
  {
   "cell_type": "code",
   "execution_count": null,
   "id": "e09a6703",
   "metadata": {},
   "outputs": [],
   "source": [
    "x = int(input(\"x 값을 입력하세요: \"))\n",
    "print(x != 5)"
   ]
  },
  {
   "cell_type": "markdown",
   "id": "0d9f73b3",
   "metadata": {},
   "source": [
    " 10.변수 y의 값이 10에서 20 사이의 값 인지 검사하는 프로그램을 작성하라."
   ]
  },
  {
   "cell_type": "code",
   "execution_count": null,
   "id": "e6fe5333",
   "metadata": {},
   "outputs": [],
   "source": [
    "y = int(input(\"y 값을 입력하세요: \"))\n",
    "print(10 < y < 20)"
   ]
  }
 ],
 "metadata": {
  "language_info": {
   "name": "python"
  }
 },
 "nbformat": 4,
 "nbformat_minor": 5
}
