{
 "cells": [
  {
   "cell_type": "markdown",
   "id": "a313ccad",
   "metadata": {},
   "source": [
    "이 파일은 2장의 연습문제2를 작성한 파일입니다\n",
    "\n",
    "이름 : 김민규 (202110152)"
   ]
  },
  {
   "cell_type": "markdown",
   "id": "2aac3e8e",
   "metadata": {},
   "source": [
    "연습문제 2-1\n",
    "(초를 입력하면 분과 초로 표시하는 프로그램, 예를 들어 200초를 입력하면 3분 20초로 표현하라)"
   ]
  },
  {
   "cell_type": "code",
   "execution_count": 1,
   "id": "4c8f5df6",
   "metadata": {},
   "outputs": [
    {
     "name": "stdout",
     "output_type": "stream",
     "text": [
      "0분 1초\n"
     ]
    }
   ],
   "source": [
    "seconds = int(input(\"초를 입력하세요: \"))\n",
    "minutes = seconds // 60\n",
    "remain_seconds = seconds % 60\n",
    "print(f\"{minutes}분 {remain_seconds}초\")"
   ]
  },
  {
   "cell_type": "markdown",
   "id": "97e7fb00",
   "metadata": {},
   "source": [
    "연습문제 2-2\n",
    "(분(min)을 입력 하면 일,시간,분으로 출력하는 프로그램을 만들어라 (예: 1550분은 1일 1시간 50분))"
   ]
  },
  {
   "cell_type": "code",
   "execution_count": 3,
   "id": "c3a21fbf",
   "metadata": {},
   "outputs": [
    {
     "name": "stdout",
     "output_type": "stream",
     "text": [
      "0일 0시간 1분\n"
     ]
    }
   ],
   "source": [
    "minutes = int(input(\"분을 입력하세요: \"))\n",
    "days = minutes // (24 * 60)\n",
    "hours = (minutes % (24 * 60)) // 60\n",
    "remain_minutes = minutes % 60\n",
    "print(f\"{days}일 {hours}시간 {remain_minutes}분\")"
   ]
  },
  {
   "cell_type": "markdown",
   "id": "8bf5e7f8",
   "metadata": {},
   "source": [
    "연습문제 2-3\n",
    "(500만원을 변이율 5%복리 저금했을 때 5년 후 원리금의 합계를 출력하는 프로그램을 만들어라)"
   ]
  },
  {
   "cell_type": "code",
   "execution_count": null,
   "id": "51a2b4e2",
   "metadata": {},
   "outputs": [],
   "source": [
    "principal = 5000000\n",
    "rate = 0.05\n",
    "years = 5\n",
    "\n",
    "total_amount = principal * (1 + rate) ** years\n",
    "\n",
    "print(f\"5년 후 원리금 합계는 {total_amount:,.0f}원입니다.\")"
   ]
  },
  {
   "cell_type": "markdown",
   "id": "4e9663f7",
   "metadata": {},
   "source": [
    "연습문제 2-4\n",
    "(1부터 n까지의 합은 n(n+1)/2로 주어진다. 이때 1부터 100까지의 합을 구하여 출력하는 프로그램을 작성하고 실행하여라)"
   ]
  },
  {
   "cell_type": "code",
   "execution_count": null,
   "id": "e7615bbf",
   "metadata": {},
   "outputs": [],
   "source": [
    "n = 100\n",
    "total = n * (n + 1) // 2\n",
    "print(f\"1부터 {n}까지의 합은 {total}입니다.\")"
   ]
  },
  {
   "cell_type": "markdown",
   "id": "2eda50da",
   "metadata": {},
   "source": [
    "연습문제 2-5\n",
    "(판매자가 딸기와 포도를 판매하고 있다. 포도 한 알의 무게는 75g이고 딸기 한 알의 무게는\n",
    "113.5g이다. 사용자로부터  포도 알의 개수와 딸기의 개수를 입력받아 총무게를 계산하여 출력\n",
    "하는 프로그램을 작성하고 실행하라.)"
   ]
  },
  {
   "cell_type": "code",
   "execution_count": null,
   "id": "013bc73d",
   "metadata": {},
   "outputs": [],
   "source": [
    "grape_count = int(input(\"포도 알의 개수를 입력하세요: \"))\n",
    "strawberry_count = int(input(\"딸기 개수를 입력하세요: \"))\n",
    "\n",
    "total_weight = grape_count * 75 + strawberry_count * 113.5\n",
    "\n",
    "print(f\"총 무게는 {total_weight:.1f}g입니다.\")"
   ]
  }
 ],
 "metadata": {
  "kernelspec": {
   "display_name": "Python 3",
   "language": "python",
   "name": "python3"
  },
  "language_info": {
   "codemirror_mode": {
    "name": "ipython",
    "version": 3
   },
   "file_extension": ".py",
   "mimetype": "text/x-python",
   "name": "python",
   "nbconvert_exporter": "python",
   "pygments_lexer": "ipython3",
   "version": "3.13.7"
  }
 },
 "nbformat": 4,
 "nbformat_minor": 5
}
