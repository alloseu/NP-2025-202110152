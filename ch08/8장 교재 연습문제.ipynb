{
 "cells": [
  {
   "cell_type": "markdown",
   "id": "b54b102d",
   "metadata": {},
   "source": [
    "이 파일은 8장의 연습문제를 작성한 파일입니다.\n",
    "\n",
    "날짜.2025.10.01\n",
    "\n",
    "저자 : 김민규(202110152)"
   ]
  },
  {
   "cell_type": "markdown",
   "id": "0bb4544c",
   "metadata": {},
   "source": [
    "연습문제 1. 임의의 파일에 글자를 기록하여 저장하는 프로그램을 작성하라."
   ]
  },
  {
   "cell_type": "code",
   "execution_count": null,
   "id": "59ce39d4",
   "metadata": {},
   "outputs": [],
   "source": [
    "filename = input(\"저장할 파일 이름을 입력하세요 (예: example.txt): \")\n",
    "content = input(\"파일에 저장할 내용을 입력하세요: \")\n",
    "\n",
    "with open(filename, \"w\", encoding=\"utf-8\") as file:\n",
    "    file.write(content)\n",
    "\n",
    "print(f\"{filename} 파일에 내용이 성공적으로 저장되었습니다.\")"
   ]
  },
  {
   "cell_type": "markdown",
   "id": "57ef3161",
   "metadata": {},
   "source": [
    "연습문제 2. 임의의 주어진 텍스트 파일의 내용을 화면에 출력하는 프로그램을 작성하라."
   ]
  },
  {
   "cell_type": "code",
   "execution_count": null,
   "id": "2faa4b26",
   "metadata": {},
   "outputs": [],
   "source": [
    "filename = input(\"읽을 텍스트 파일 이름을 입력하세요 (예: example.txt): \")\n",
    "\n",
    "try:\n",
    "    with open(filename, \"r\", encoding=\"utf-8\") as file:\n",
    "        content = file.read()\n",
    "        print(\"\\n파일 내용:\")\n",
    "        print(content)\n",
    "except FileNotFoundError:\n",
    "    print(\"해당 파일을 찾을 수 없습니다. 파일 이름을 확인해주세요.\")\n",
    "except Exception as e:\n",
    "    print(f\"오류 발생: {e}\")"
   ]
  }
 ],
 "metadata": {
  "language_info": {
   "name": "python"
  }
 },
 "nbformat": 4,
 "nbformat_minor": 5
}
