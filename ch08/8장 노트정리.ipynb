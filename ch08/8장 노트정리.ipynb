{
 "cells": [
  {
   "cell_type": "markdown",
   "id": "8d1f088a",
   "metadata": {},
   "source": [
    "이 파일은 7장을 학습하면서 실행한 내용을 정리한 파일 입니다.\n",
    "\n",
    "날짜.2025.09.17\n",
    "\n",
    "저자 : 김민규"
   ]
  },
  {
   "cell_type": "markdown",
   "id": "3520dd07",
   "metadata": {},
   "source": [
    "파이썬의 예외처리"
   ]
  },
  {
   "cell_type": "code",
   "execution_count": null,
   "id": "7c91cafc",
   "metadata": {
    "vscode": {
     "languageId": "plaintext"
    }
   },
   "outputs": [],
   "source": [
    "프로젝트 실행 도중에 오류가 발생하면 생성되는 특별한 객체로 예외가 발생하면 파이썬은 프로그램의 실행을 중단한다.\n",
    "\n",
    "예외처리란 예외가 발생했을 때 프로그램 실행을 중단하지 않고\n",
    " 처리하는 방법을 정의한 프로그램부분\n",
    "\n",
    "예외의 종류\n",
    "- ZeroDivisionError  0으로 나눌때\n",
    "- IndexError   인덱스가 범위를 벗어날때\n",
    "- FileNotFoundError   존재하지 않는 파일을 열려고 할 때\n",
    "- ValueError   원하는값 을 입력 받지 못할 때\n",
    "- NameError  정의되지 않은 변수를 사용할 때\n",
    "- TypeError  데이터형이 맞지 않는 연산을 할 때\n"
   ]
  },
  {
   "cell_type": "markdown",
   "id": "1624d720",
   "metadata": {},
   "source": [
    "예외처리"
   ]
  },
  {
   "cell_type": "code",
   "execution_count": null,
   "id": "8b32b594",
   "metadata": {},
   "outputs": [],
   "source": [
    "try-except/try-except-else문\n",
    "\n",
    "try:\n",
    " a = 1 / b #1\n",
    " except ZeroDivisionError:\n",
    " print(\"0으로 나눌 수 없습니다\") #2\n",
    " else: \n",
    "print(a) #3\n",
    "\n",
    "a= 1/b를 실행하고  ZeroDivisionError 예외가 발생하면 #2의 문장을 ㅅ;ㄹ헹\n",
    "만약 다른 예외가 발생하면 프로그램 중단.\n",
    "예외가 발생하지 않을 시 #3문장 실행"
   ]
  },
  {
   "cell_type": "code",
   "execution_count": null,
   "id": "0f818605",
   "metadata": {},
   "outputs": [],
   "source": [
    "#예외를 알 수 없는 try-except-else문\n",
    "try:\n",
    " a = int(input(\"Type a Number: \")) #1\n",
    " except Exception as e:   #2\n",
    " print(\"예외가 발생했습니다\", e)  #3\n",
    " else: \n",
    "print(a) #4\n",
    "\n",
    "➊을 실행하고 예외가 발생하면 ➌ 문장실행\n",
    "• 예외의 종류는 모르지만 예외가 발생할 이유를 알고싶을 때\n",
    "  ➋와 같이 사용. e는 예외와 관련된 메시지저장\n",
    "• 예외가 발생하지 않으면 ➌ 문장실행"
   ]
  },
  {
   "cell_type": "code",
   "execution_count": null,
   "id": "fd4dbc4b",
   "metadata": {},
   "outputs": [],
   "source": [
    "복합try-except 문\n",
    "import sys\n",
    " try:\n",
    "    fp = open('sample.txt')\n",
    "    sl = fp.readline()\n",
    "    value = int(sl.strip())\n",
    " except OSError as err:\n",
    "    print(\"OS 오류: \", err) #1\n",
    " except ValueError:\n",
    "    print(\"정수로변환할수없습니다\") #2\n",
    " except:\n",
    "    print(\"알수없는오류가발생하였습니다\") #3\n",
    "    \n",
    "- try: 블록 실행 결과 OSError 예외가 발생하면 ➊문장 실행\n",
    "- ValueError 예외가 발생하면 ➋문장 실행\n",
    "- 기타 예외가 발생하면 ➌문장 실행"
   ]
  },
  {
   "cell_type": "code",
   "execution_count": null,
   "id": "6586797f",
   "metadata": {},
   "outputs": [],
   "source": [
    "\n",
    "try-except-finally 문\n",
    "\n",
    "try:\n",
    " result = x / y ➊\n",
    " except ZeroDivisionError:\n",
    " print(\"0으로 나눌 수 없습니다\") ➋\n",
    " except: \n",
    "print(result) ➌\n",
    " finally:\n",
    " print(\"예외처리가 끝났습니다\") ➍\n",
    " \n",
    "- ➊문장을 실행하고 ZeroDivisionError 예외가 발생하면 ➋ 문장 실행\n",
    "- 기타 예외가 발생하면 ➌ 문장실행\n",
    "- 예외 발생에 관계없이 ➍ 문장 실행. 따라서 ➍문장은 항상 실행됨\n",
    "- except-else 블록은 생략 가능(try-finally)"
   ]
  },
  {
   "cell_type": "markdown",
   "id": "5f2cac9b",
   "metadata": {},
   "source": [
    "파일 입출력"
   ]
  },
  {
   "cell_type": "markdown",
   "id": "b6c339cb",
   "metadata": {},
   "source": [
    "표준 입출력\n",
    "- 표준 입력 : 키보드\n",
    "- 표준 출력 : 콘솔 화면\n",
    "- 표준 에러 : 콘솔 화면"
   ]
  },
  {
   "cell_type": "markdown",
   "id": "2a85ce47",
   "metadata": {},
   "source": [
    "파일입출력\n",
    "\n",
    "- 표준 입출력 대신에 파일에 기록하는 것\n",
    "- 텍스트 파일 : 사람이 볼 수 있는 문자 데이터를 저장(메모장으로확인가능)\n",
    "- 이진 파일: 이진수 데이터를 저장"
   ]
  },
  {
   "cell_type": "markdown",
   "id": "b99d9c78",
   "metadata": {},
   "source": [
    "파일처리과정\n",
    "- 열기: 파일 이름과 처리 목적(읽기 또는 쓰기) 를 지정해 사용하려는 파일을 열기\n",
    "- 사용: 열린 파일에 대한 읽기 또는 쓰기를 진행\n",
    "- 닫기: 파일의 사용이 끝나면 열린 파일을 닫아 버퍼에 있는 내용을 디스크에 모두 반영"
   ]
  },
  {
   "cell_type": "markdown",
   "id": "f56ebd62",
   "metadata": {},
   "source": [
    "파일 다루기\n",
    "- 오프셋 0부터 끝까지 1Byte 단위로 직렬화 되어 저장됨\n",
    "\n",
    "파일의 열기 모드\n",
    "- 'r' : 읽기 전용 모드 (파일이 존재해야 함)\n",
    "- 'w' : 쓰기 전용 모드 (파일이 없으면 생성, 있으면 내용 덮어쓰기.)\n",
    "- 'a' : 추가 모드 (파일 끝에 내용을 덧붙임. 없으면 생성)\n",
    "- 'x' : 베타적 생성 모드 (파일이 있으면 오류 발생, 없으면 새로 생성)\n",
    "- 'r+' : 읽기/쓰기 모드 (파일이 존재 해야 함.)\n",
    "- 'w+' : 읽기/쓰기 모드 (파일을 새로 쓰기 시작함(내용 덮어쓰기))\n",
    "- 'a+' : 읽기/쓰기 모드 (파일 끝에 덧붙이기. 기존 내용은 유지.)"
   ]
  },
  {
   "cell_type": "markdown",
   "id": "551f6eb7",
   "metadata": {},
   "source": [
    "이진 파일의 열기 모드\n",
    "- 'rb' : 바이너리 읽기모드\n",
    "- 'wb' : 바이너리 쓰기 모드\n",
    "- 'ab' : 바이너리 추가 모드\n",
    "- 'rb+' : 바이너리 읽기/쓰기 모드\n",
    "- 'wb+' : 바이너리 읽기/쓰기 모드 (덮어쓰기)\n",
    "- 'ab+' : 바이너리 읽기/쓰기 모드 (추가)"
   ]
  }
 ],
 "metadata": {
  "language_info": {
   "name": "python"
  }
 },
 "nbformat": 4,
 "nbformat_minor": 5
}
