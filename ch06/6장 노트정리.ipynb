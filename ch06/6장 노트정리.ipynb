{
 "cells": [
  {
   "cell_type": "markdown",
   "id": "6f0954b5",
   "metadata": {},
   "source": [
    "이 파일은 6장을 학습하면서 실행한 내용을 정리한 것 입니다.\n",
    "\n",
    "날짜.2025.09.17\n",
    "\n",
    "저자 : 김민규"
   ]
  },
  {
   "cell_type": "markdown",
   "id": "4cff178a",
   "metadata": {},
   "source": [
    "<객체지향 프로그램> - 객체의 속성(변수)와 동작(함수)을 나타내는 클래스를 정의하고 이로부터 객체를 생성 및 작성한 프로그램이다.\n",
    "\n",
    "<메소드> - 클래스의 동작을 나타내는 함수\n",
    "\n",
    "-클래스는 다른 클래스로부터 상속받을 수 있고 상속 클래스는 부모 클래스가 갖지않은 클래스와 메소드를 가질 수 있다."
   ]
  },
  {
   "cell_type": "markdown",
   "id": "9588efeb",
   "metadata": {},
   "source": [
    "<Class, 클래스>"
   ]
  },
  {
   "cell_type": "code",
   "execution_count": null,
   "id": "1909624c",
   "metadata": {},
   "outputs": [],
   "source": [
    "<클래스> - class 클래스 이름(부모 클래스) : # 클래스 몸체\n",
    "\n",
    "- 클래스는 class 키워드로 정의한다. \n",
    "- 클래스 이름은 대문자로 시작하는 것이 관례이다. \n",
    "- 클래스는 다른 클래스로부터 상속받을 수 있고 상속 클래스는 부모 클래스가 갖지않은 클래스와 메소드를 가질 수 있다.\n",
    "- 클래스를 인스턴트화 하여 만들어진 것을 객체라고 한다.\n",
    "- 객체는 클래스의 변수와 메소드에 접근할 수 있다."
   ]
  },
  {
   "cell_type": "code",
   "execution_count": null,
   "id": "281c9948",
   "metadata": {},
   "outputs": [],
   "source": [
    "#class의 예시\n",
    "\n",
    "class Car :\n",
    "    def __init__(self, color, speed)  # 초기화 메소드. self는 객체를 나타냄\n",
    "        self.color = color  #인스턴스 변수 정의\n",
    "        self.speed = speed\n",
    "        \n",
    "    def speedUp(self, v): \n",
    "        self.speed = self.speed + v\n",
    "        return self.speed\n",
    "    \n",
    "    def speedDown(self, v):\n",
    "        self.speed = self.speed – v \n",
    "        return self.speed"
   ]
  },
  {
   "cell_type": "code",
   "execution_count": null,
   "id": "8c4c7f2e",
   "metadata": {},
   "outputs": [],
   "source": [
    "초기화 함수(_init__()) \n",
    "- 객체가 생성될 때 자동으로 호출되는 함수. \n",
    "- 객체의 속성을 초기화하는 역할을 한다.(초기화할 필요가 없으면 생략 가능)\n",
    "- self를 첫 번째 매개변수로 가지며, self는 클래스 객체를 나타낸다.\n",
    "- 인스턴스 변수는 클래스 내부의 모든 메소드에서 사용할 수 있다."
   ]
  },
  {
   "cell_type": "code",
   "execution_count": null,
   "id": "1dc6aedd",
   "metadata": {},
   "outputs": [],
   "source": [
    "<클래스 상속>\n",
    "- 상속은 기존에 만들어진 클래스로부터 속성과 메소드를 이어받고 자신이 필요한 기능을 추가하는 기법이다.\n",
    "- 상위 클래스 : 부모 혹은 super class \n",
    "- 하위 클래스 : 자식 혹은 sub class"
   ]
  },
  {
   "cell_type": "code",
   "execution_count": null,
   "id": "71aed93c",
   "metadata": {},
   "outputs": [],
   "source": [
    "<메소드 오버라이딩>\n",
    "- 자식클래스에서 부모클래스의 메소드를 수정해 다시 정의하는 것\n",
    "- Student 클래스에서 People클래스의 introMe() 메소드를 재정의하여 사용\n",
    "\n",
    "\n",
    "class People : #부모클래스\n",
    "    def __init__(self, age=0, name=None):\n",
    "        self.__age = age\n",
    "        self.__name = name\n",
    "    def introMe(self):\n",
    "        print(\"Name :\", self.__name, \"age :\", str(self.__age))\n",
    " class Student(People) : #자식클래스\n",
    "    def __init__(self, age=0, name=None, grade=None):\n",
    "       super().__init__(age, name)\n",
    "         self.__grade = grade #자식클래스의변수\n",
    "    def introMe(self): 부모클래스메소드를재정의(오버라이딩)\n",
    "        super().introMe()\n",
    "        print(\"Grade : \", self.__grade)"
   ]
  },
  {
   "cell_type": "code",
   "execution_count": null,
   "id": "8a4388be",
   "metadata": {},
   "outputs": [],
   "source": [
    "<다형성>\n",
    "- 전달된 인자에 따라 함수 또는 연산의 기능이 달라지는 기능\n"
   ]
  },
  {
   "cell_type": "markdown",
   "id": "a721a539",
   "metadata": {},
   "source": [
    "<추상 함수>\n",
    "- 추상 메서드는 반드시 하위 클레스에서 구현해야 하며 직접 인스턴스 화 할 수 없음"
   ]
  },
  {
   "cell_type": "code",
   "execution_count": null,
   "id": "1f09e82c",
   "metadata": {},
   "outputs": [],
   "source": []
  }
 ],
 "metadata": {
  "language_info": {
   "name": "python"
  }
 },
 "nbformat": 4,
 "nbformat_minor": 5
}
