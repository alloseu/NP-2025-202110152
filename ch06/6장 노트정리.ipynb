{
 "cells": [
  {
   "cell_type": "markdown",
   "id": "6f0954b5",
   "metadata": {},
   "source": [
    "이 파일은 6장을 학습하면서 실행한 내용을 정리한 것 입니다.\n",
    "\n",
    "날짜.2025.09.17\n",
    "\n",
    "저자 : 김민규"
   ]
  },
  {
   "cell_type": "markdown",
   "id": "4cff178a",
   "metadata": {},
   "source": [
    "<객체지향 프로그램> - 객체의 속성(변수)와 동작(함수)을 나타내는 클래스를 정의하고 이로부터 객체를 생성 및 작성한 프로그램이다.\n",
    "\n",
    "<메소드> - 클래스의 동작을 나타내는 함수\n",
    "\n",
    "-클래스는 다른 클래스로부터 상속받을 수 있고 상속 클래스는 부모 클래스가 갖지않은 클래스와 메소드를 가질 수 있다."
   ]
  },
  {
   "cell_type": "markdown",
   "id": "9588efeb",
   "metadata": {},
   "source": [
    "<Class, 클래스>"
   ]
  },
  {
   "cell_type": "code",
   "execution_count": null,
   "id": "1909624c",
   "metadata": {},
   "outputs": [],
   "source": [
    "<클래스> - class 클래스 이름(부모 클래스) : # 클래스 몸체\n",
    "\n",
    "- 클래스는 class 키워드로 정의한다. \n",
    "- 클래스 이름은 대문자로 시작하는 것이 관례이다. \n",
    "- 클래스는 다른 클래스로부터 상속받을 수 있고 상속 클래스는 부모 클래스가 갖지않은 클래스와 메소드를 가질 수 있다.\n",
    "- 클래스를 인스턴트화 하여 만들어진 것을 객체라고 한다.\n",
    "- 객체는 클래스의 변수와 메소드에 접근할 수 있다."
   ]
  },
  {
   "cell_type": "code",
   "execution_count": null,
   "id": "281c9948",
   "metadata": {},
   "outputs": [],
   "source": [
    "#class의 예시\n",
    "\n",
    "class Car :\n",
    "    def __init__(self, color, speed)  # 초기화 메소드. self는 객체를 나타냄\n",
    "        self.color = color  #인스턴스 변수 정의\n",
    "        self.speed = speed\n",
    "        \n",
    "    def speedUp(self, v): \n",
    "        self.speed = self.speed + v\n",
    "        return self.speed\n",
    "    \n",
    "    def speedDown(self, v):\n",
    "        self.speed = self.speed – v \n",
    "        return self.speed"
   ]
  },
  {
   "cell_type": "code",
   "execution_count": 1,
   "id": "8c4c7f2e",
   "metadata": {},
   "outputs": [
    {
     "ename": "SyntaxError",
     "evalue": "invalid syntax (3704453658.py, line 1)",
     "output_type": "error",
     "traceback": [
      "  \u001b[36mCell\u001b[39m\u001b[36m \u001b[39m\u001b[32mIn[1]\u001b[39m\u001b[32m, line 1\u001b[39m\n\u001b[31m    \u001b[39m\u001b[31m초기화 함수(_init__())\u001b[39m\n        ^\n\u001b[31mSyntaxError\u001b[39m\u001b[31m:\u001b[39m invalid syntax\n"
     ]
    }
   ],
   "source": [
    "초기화 함수(_init__()) \n",
    "- 객체가 생성될 때 자동으로 호출되는 함수. \n",
    "- 객체의 속성을 초기화하는 역할을 한다.(초기화할 필요가 없으면 생략 가능)\n",
    "- self를 첫 번째 매개변수로 가지며, self는 클래스 객체를 나타낸다.\n",
    "- 인스턴스 변수는 클래스 내부의 모든 메소드에서 사용할 수 있다."
   ]
  },
  {
   "cell_type": "code",
   "execution_count": null,
   "id": "1dc6aedd",
   "metadata": {},
   "outputs": [],
   "source": [
    "<클래스 상속>\n",
    "- 상속은 기존에 만들어진 클래스로부터 속성과 메소드를 이어받고 자신이 필요한 기능을 추가하는 기법이다.\n",
    "- 상위 클래스 : 부모 혹은 super class \n",
    "- 하위 클래스 : 자식 혹은 sub class"
   ]
  },
  {
   "cell_type": "code",
   "execution_count": null,
   "id": "71aed93c",
   "metadata": {},
   "outputs": [],
   "source": [
    "<메소드 오버라이딩>\n",
    "- 자식클래스에서 부모클래스의 메소드를 수정해 다시 정의하는 것\n",
    "- Student 클래스에서 People클래스의 introMe() 메소드를 재정의하여 사용\n",
    "\n",
    "\n",
    "class People : #부모클래스\n",
    "    def __init__(self, age=0, name=None):\n",
    "        self.__age = age\n",
    "        self.__name = name\n",
    "    def introMe(self):\n",
    "        print(\"Name :\", self.__name, \"age :\", str(self.__age))\n",
    " class Student(People) : #자식클래스\n",
    "    def __init__(self, age=0, name=None, grade=None):\n",
    "       super().__init__(age, name)\n",
    "         self.__grade = grade #자식클래스의변수\n",
    "    def introMe(self): 부모클래스메소드를재정의(오버라이딩)\n",
    "        super().introMe()\n",
    "        print(\"Grade : \", self.__grade)"
   ]
  },
  {
   "cell_type": "code",
   "execution_count": null,
   "id": "8a4388be",
   "metadata": {},
   "outputs": [],
   "source": [
    "<다형성>\n",
    "- 전달된 인자에 따라 함수 또는 연산의 기능이 달라지는 기능\n"
   ]
  },
  {
   "cell_type": "markdown",
   "id": "a721a539",
   "metadata": {},
   "source": [
    "<추상 함수>\n",
    "- 추상 메서드는 반드시 하위 클레스에서 구현해야 하며 직접 인스턴스 화 할 수 없음"
   ]
  },
  {
   "cell_type": "code",
   "execution_count": null,
   "id": "1f09e82c",
   "metadata": {},
   "outputs": [],
   "source": [
    "from abc import ABC, abstractmethod\n",
    "\n",
    "class Animal(ABC): #추상클래스\n",
    "    @abstractmethod\n",
    "    def sound(self): #추상메소드\n",
    "        pass\n",
    "    \n",
    "class Dog(Animal): #구체클래스\n",
    "    def sound(self):\n",
    "        return \"멍멍\"\n",
    "    \n",
    "# a = Animal() # 에러: 추상클래스는인스턴스화불가\n",
    "d = Dog()\n",
    "print(d.sound())\n",
    "    \n",
    "    \n",
    "    "
   ]
  },
  {
   "cell_type": "code",
   "execution_count": null,
   "id": "45e732a0",
   "metadata": {},
   "outputs": [],
   "source": [
    "<정적 멤버> (static variable, static methods)\n",
    "\n",
    "파이썬에서의 정적 메서드\n",
    "- 파이썬에서 static member(정적 멤버, 클래스 변수)는 클래스 전체에서 공유되는 변수이며 클래스 변수, 클래스 메소드라고 함\n",
    "- 메서드의 경우 @staticmethod 데코레이터를 사용하여 정적 메서드를 정의\n",
    "- 정적 변수는 클래스 안에 self가 아닌 일반 변수를 선언하고 클래스.변수 형태로 접근한다."
   ]
  },
  {
   "cell_type": "markdown",
   "id": "48dbe72b",
   "metadata": {},
   "source": [
    "<파이썬 데코레이터>"
   ]
  },
  {
   "cell_type": "code",
   "execution_count": null,
   "id": "e3b798fb",
   "metadata": {},
   "outputs": [],
   "source": [
    "-파이썬 데코레이터는 함수나 클래스의 동작을 수정하거나 확장할 떄 사용하는 문법으로\n",
    " 함수 또는 메서드의 정의 위에 @데코레이터 이름의 형태로 사용\n",
    "- 해당 함수가 호출될 때 데코레이터 함수 내에서 해당 함수가 실행된다."
   ]
  },
  {
   "cell_type": "code",
   "execution_count": 4,
   "id": "4fb6ce18",
   "metadata": {},
   "outputs": [
    {
     "name": "stdout",
     "output_type": "stream",
     "text": [
      "=== 예제1: 기본 데코레이터 ===\n",
      "함수 실행 전\n",
      "Hello, World!\n",
      "함수 실행 후\n"
     ]
    }
   ],
   "source": [
    "#파이썬 데코레이터의 예제\n",
    "def simple_decorator(func):\n",
    "    def wrapper():\n",
    "        print(\"함수 실행 전\")\n",
    "        result = func()\n",
    "        print(\"함수 실행 후\")\n",
    "        return result\n",
    "    return wrapper\n",
    "\n",
    "@simple_decorator\n",
    "def say_hello():\n",
    "    print(\"Hello, World!\")\n",
    "\n",
    "if __name__ == \"__main__\":\n",
    "    print(\"=== 예제1: 기본 데코레이터 ===\")\n",
    "    say_hello()\n",
    " # 함수실행전\n",
    "# Hello, World!\n",
    " # 함수실행후\n"
   ]
  },
  {
   "cell_type": "code",
   "execution_count": null,
   "id": "5d684f2e",
   "metadata": {},
   "outputs": [],
   "source": [
    "기존의 함수를 확장(데코레이터를 통한)하기 위한 방법\n",
    "(이미 작성된 함수의 기능을 확장할 때 2가지 방법)\n",
    "\n",
    "1. 함수 재할당\n",
    "- 장식이 된 함수명을 기존 함수명으로 그래도 사용하게 하고 싶을 때 : 기존 클라이언트 코드 변경 없이 \n",
    "- 원본 함수명 = decorator(원본 함수명) \n",
    "\n",
    "2. 다른 함수명\n",
    "- 장식이 된 함수명을 새로운 함수명으로 명명하여 사용해도 좋을 떄 : 새롭게 클라이언트 함수를 짤 때\n",
    "- 신규 함수명 = decorator(원본 함수명)"
   ]
  },
  {
   "cell_type": "code",
   "execution_count": 5,
   "id": "983f05a5",
   "metadata": {},
   "outputs": [
    {
     "name": "stdout",
     "output_type": "stream",
     "text": [
      "함수실행전\n",
      "Hello, World!\n",
      "함수실행후\n",
      "함수실행전\n",
      "Hello, World!\n",
      "함수실행후\n"
     ]
    }
   ],
   "source": [
    "def say_hello():\n",
    "    print(\"Hello, World!\")\n",
    "\n",
    "def simple_decorator(func):\n",
    "    def wrapper():\n",
    "        print(\"함수실행전\")\n",
    "        result = func()\n",
    "        print(\"함수실행후\")\n",
    "        return result\n",
    "    return wrapper\n",
    "\n",
    "original_hello = say_hello  # 원본 백업\n",
    "say_hello = simple_decorator(original_hello)  # 1. 함수 재할당\n",
    "decorated_say_hello = simple_decorator(original_hello)  # 2. 다른 함수 이름\n",
    "\n",
    "if __name__ == \"__main__\":\n",
    "    say_hello()\n",
    "    decorated_say_hello()\n",
    " # 함수실행전\n",
    "# Hello, World!\n",
    " # 함수실행후"
   ]
  },
  {
   "cell_type": "code",
   "execution_count": null,
   "id": "f622d897",
   "metadata": {},
   "outputs": [],
   "source": [
    "\n"
   ]
  }
 ],
 "metadata": {
  "kernelspec": {
   "display_name": "base",
   "language": "python",
   "name": "python3"
  },
  "language_info": {
   "codemirror_mode": {
    "name": "ipython",
    "version": 3
   },
   "file_extension": ".py",
   "mimetype": "text/x-python",
   "name": "python",
   "nbconvert_exporter": "python",
   "pygments_lexer": "ipython3",
   "version": "3.13.5"
  }
 },
 "nbformat": 4,
 "nbformat_minor": 5
}
