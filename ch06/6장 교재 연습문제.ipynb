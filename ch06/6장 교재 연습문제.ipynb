{
 "cells": [
  {
   "cell_type": "markdown",
   "id": "2045f36f",
   "metadata": {},
   "source": [
    "이 파일은 6장의 연습문제를 작성한 파일입니다.\n",
    "\n",
    "날짜.2025.10.01\n",
    "\n",
    "저자 : 김민규(202110152)"
   ]
  },
  {
   "cell_type": "markdown",
   "id": "1d070e45",
   "metadata": {},
   "source": [
    "연습문제 1. 직사각형을 구현하는 클래스를 설계히고 이를 실험해 보라. 높이/너비 변수, 접근자/설정자, 면적/둘레 길이를 구하는 메소드를 구현해야 한다."
   ]
  },
  {
   "cell_type": "code",
   "execution_count": null,
   "id": "9ea93423",
   "metadata": {},
   "outputs": [],
   "source": [
    "class Rectangle:\n",
    "    def __init__(self, width=0, height=0):\n",
    "        self._width = width\n",
    "        self._height = height\n",
    "\n",
    "    def get_width(self):\n",
    "        return self._width\n",
    "    def get_height(self):\n",
    "        return self._height\n",
    "\n",
    "    def set_width(self, width):\n",
    "        self._width = width\n",
    "    def set_height(self, height):\n",
    "        self._height = height\n",
    "\n",
    "    def area(self):\n",
    "        return self._width * self._height\n",
    "    def perimeter(self):\n",
    "        return 2 * (self._width + self._height)\n",
    "\n",
    "rect = Rectangle()\n",
    "rect.set_width(5)\n",
    "rect.set_height(3)\n",
    "\n",
    "print(\"너비:\", rect.get_width())\n",
    "print(\"높이:\", rect.get_height())\n",
    "print(\"면적:\", rect.area())\n",
    "print(\"둘레:\", rect.perimeter())"
   ]
  },
  {
   "cell_type": "markdown",
   "id": "d16cfbcc",
   "metadata": {},
   "source": [
    "연습문제 2. 위의 직사각형 클래스를 상속해 정사각형 클래스를 추가해 실험하라."
   ]
  },
  {
   "cell_type": "code",
   "execution_count": null,
   "id": "61b107a1",
   "metadata": {},
   "outputs": [],
   "source": [
    "class Rectangle:\n",
    "    def __init__(self, width=0, height=0):\n",
    "        self._width = width\n",
    "        self._height = height\n",
    "\n",
    "    def get_width(self):\n",
    "        return self._width\n",
    "\n",
    "    def get_height(self):\n",
    "        return self._height\n",
    "\n",
    "    def set_width(self, width):\n",
    "        self._width = width\n",
    "\n",
    "    def set_height(self, height):\n",
    "        self._height = height\n",
    "\n",
    "    def area(self):\n",
    "        return self._width * self._height\n",
    "\n",
    "    def perimeter(self):\n",
    "        return 2 * (self._width + self._height)\n",
    "\n",
    "class Square(Rectangle):\n",
    "    def __init__(self, side=0):\n",
    "        super().__init__(side, side)  \n",
    "    def set_side(self, side):\n",
    "        self.set_width(side)\n",
    "        self.set_height(side)\n",
    "\n",
    "    def get_side(self):\n",
    "        return self.get_width()  \n",
    "\n",
    "sq = Square(4)\n",
    "print(\"한 변의 길이:\", sq.get_side())\n",
    "print(\"면적:\", sq.area())\n",
    "print(\"둘레:\", sq.perimeter())\n",
    "\n",
    "sq.set_side(6)\n",
    "print(\"\\n변경 후 한 변의 길이:\", sq.get_side())\n",
    "print(\"면적:\", sq.area())\n",
    "print(\"둘레:\", sq.perimeter())"
   ]
  }
 ],
 "metadata": {
  "language_info": {
   "name": "python"
  }
 },
 "nbformat": 4,
 "nbformat_minor": 5
}
