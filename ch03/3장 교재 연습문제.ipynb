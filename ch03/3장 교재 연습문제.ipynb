{
 "cells": [
  {
   "cell_type": "markdown",
   "id": "9354aa63",
   "metadata": {},
   "source": [
    "이 파일은 3장의 연습문제를 작성한 파일입니다.\n",
    "\n",
    "날짜.2025.10.01\n",
    "\n",
    "저자 : 김민규(202110152)"
   ]
  },
  {
   "cell_type": "markdown",
   "id": "cc479e03",
   "metadata": {},
   "source": [
    "연습문제 1. 1 mile = 1.6 km이다. 10 mile부터 200mile까지 10mile 간격으로 해당하는 mile이 몇 km인지 출력하는 프로그램을 작성하시오.\n"
   ]
  },
  {
   "cell_type": "code",
   "execution_count": 1,
   "id": "9c15518c",
   "metadata": {},
   "outputs": [],
   "source": [
    "MILE = 1.6\n",
    "\n",
    "for mile in range(10, 201, 10):\n",
    "    km = mile * MILE\n",
    "    print(f\"{mile} mile = {km:.1f} km\")"
   ]
  },
  {
   "cell_type": "markdown",
   "id": "7d496971",
   "metadata": {},
   "source": [
    "연습문제 2. 임의의 크지 않은 자연수 n을 입력받아 n! (팩토리얼)을 계산해 출력하는 프로그램을 반복문을 이용해 작성"
   ]
  },
  {
   "cell_type": "code",
   "execution_count": null,
   "id": "7c847c41",
   "metadata": {},
   "outputs": [],
   "source": [
    "n = int(input(\"자연수 n을 입력하세요: \"))\n",
    "factorial = 1\n",
    "\n",
    "for i in range(1, n + 1):\n",
    "    factorial *= i\n",
    "\n",
    "print(f\"{n}! = {factorial}\")"
   ]
  },
  {
   "cell_type": "markdown",
   "id": "577faac8",
   "metadata": {},
   "source": [
    "연습문제 3. 임의의 자연수 n이 입력되면 2부터 n까지의 모든 소수를 출력하는 프로그램"
   ]
  },
  {
   "cell_type": "code",
   "execution_count": 3,
   "id": "262cb005",
   "metadata": {},
   "outputs": [
    {
     "name": "stdout",
     "output_type": "stream",
     "text": [
      "2부터 2까지의 소수:\n",
      "2 "
     ]
    }
   ],
   "source": [
    "n = int(input(\"자연수 n을 입력하세요: \"))\n",
    "\n",
    "print(f\"2부터 {n}까지의 소수:\")\n",
    "\n",
    "for num in range(2, n + 1):\n",
    "    is_prime = True\n",
    "    for i in range(2, int(num ** 0.5) + 1):\n",
    "        if num % i == 0:\n",
    "            is_prime = False\n",
    "            break\n",
    "    if is_prime:\n",
    "        print(num, end=' ')"
   ]
  },
  {
   "cell_type": "markdown",
   "id": "39b46da6",
   "metadata": {},
   "source": [
    "연습문제 4. 임의의 금액 n을 입력받으면(단 n의 최소 단위는 100원) 그 금액을 만족하는 모든 경우를 출력하는 프로그램을 작성하라.지폐(50000, 10000, 5000, 1000원)만 사용"
   ]
  },
  {
   "cell_type": "code",
   "execution_count": null,
   "id": "95f0ad4c",
   "metadata": {},
   "outputs": [],
   "source": [
    "n = int(input(\"금액을 입력하세요 (100원 단위): \"))\n",
    "\n",
    "print(f\"\\n{n}원을 만들 수 있는 모든 지폐 조합:\")\n",
    "for a in range(n // 50000 + 1): \n",
    "    for b in range(n // 10000 + 1):  \n",
    "        for c in range(n // 5000 + 1):  \n",
    "            for d in range(n // 1000 + 1):  \n",
    "                total = 50000 * a + 10000 * b + 5000 * c + 1000 * d\n",
    "                if total == n:\n",
    "                    print(f\"50000원:{a}장, 10000원:{b}장, 5000원:{c}장, 1000원:{d}장\")"
   ]
  },
  {
   "cell_type": "markdown",
   "id": "2c7c3795",
   "metadata": {},
   "source": [
    "연습문제 5. 아스키 코드표를 출력하는 프로그램을 작성하라(아스키 값 32-126)"
   ]
  },
  {
   "cell_type": "code",
   "execution_count": null,
   "id": "727897bd",
   "metadata": {},
   "outputs": [],
   "source": [
    "print(\"아스키 코드표 (32~126):\\n\")\n",
    "for code in range(32, 127):\n",
    "    print(f\"{code} : {chr(code)}\")"
   ]
  },
  {
   "cell_type": "markdown",
   "id": "80784a0a",
   "metadata": {},
   "source": [
    "연습문제 6. 산술연산자를 사용해 임의의 소문자는 대문자로, 대문자는 소문자로 변환하는 프로그램을 작성하라."
   ]
  },
  {
   "cell_type": "code",
   "execution_count": null,
   "id": "3d3e3f1b",
   "metadata": {},
   "outputs": [],
   "source": [
    "char = input(\"영문자 하나를 입력하세요: \")\n",
    "code = ord(char)\n",
    "\n",
    "if 'a' <= char <= 'z':\n",
    "    converted = chr(code - 32)\n",
    "elif 'A' <= char <= 'Z':\n",
    "    converted = chr(code + 32)\n",
    "else:\n",
    "    converted = \"영문자가 아닙니다.\"\n",
    "\n",
    "print(f\"변환 결과: {converted}\")"
   ]
  },
  {
   "cell_type": "markdown",
   "id": "38c560a5",
   "metadata": {},
   "source": [
    "연습문제 7. 비트연산자를 사용해 임의의 소문자는 대문자로, 대문자는 소문자로 변환하는 프로그램을 작성하라."
   ]
  },
  {
   "cell_type": "code",
   "execution_count": null,
   "id": "0ad61eb0",
   "metadata": {},
   "outputs": [],
   "source": [
    "char = input(\"영문자 하나를 입력하세요: \")\n",
    "code = ord(char)\n",
    "\n",
    "if 'a' <= char <= 'z':\n",
    "    converted = chr(code & ~0x20)\n",
    "elif 'A' <= char <= 'Z':\n",
    "    converted = chr(code | 0x20)\n",
    "else:\n",
    "    converted = \"영문자가 아닙니다.\"\n",
    "    \n",
    "print(f\"변환 결과: {converted}\")"
   ]
  },
  {
   "cell_type": "markdown",
   "id": "434810a2",
   "metadata": {},
   "source": [
    "연습문제 8. 임의의 자연수 k를 각각 왼쪽과 오른쪽으로 n번 시프트 하는 프로그램을 작성하라 (n: 크지 않은 자연수)"
   ]
  },
  {
   "cell_type": "code",
   "execution_count": null,
   "id": "35e43d15",
   "metadata": {},
   "outputs": [],
   "source": [
    "k = int(input(\"자연수 k를 입력하세요: \"))\n",
    "n = int(input(\"시프트 횟수 n을 입력하세요: \"))\n",
    "\n",
    "left_shift = k << n\n",
    "right_shift = k >> n\n",
    "\n",
    "print(f\"\\n{k}를 {n}번 왼쪽 시프트한 결과: {left_shift}\")\n",
    "print(f\"{k}를 {n}번 오른쪽 시프트한 결과: {right_shift}\")"
   ]
  },
  {
   "cell_type": "markdown",
   "id": "cfca79c2",
   "metadata": {},
   "source": [
    "연습문제 9. 윤년계산 방법을 이용해 2000년부터 2500변까지 윤년인 해를 출력하는 프로그램을 작성하라"
   ]
  },
  {
   "cell_type": "code",
   "execution_count": null,
   "id": "510c1da1",
   "metadata": {},
   "outputs": [],
   "source": [
    "def is_leap_year(year):\n",
    "    return (year % 4 == 0 and year % 100 != 0) or (year % 400 == 0)\n",
    "\n",
    "print(\"2000년부터 2500년까지의 윤년:\")\n",
    "for year in range(2000, 2501):\n",
    "    if is_leap_year(year):\n",
    "        print(year, end=' ')"
   ]
  },
  {
   "cell_type": "markdown",
   "id": "fd41dc29",
   "metadata": {},
   "source": [
    "연습문제 10. 두 수의 최대 공약수는 두 수를 나누어 떨어지는 가장 큰 수이다. 예를 들어 (16,24)의 최대공약수는 8이다. 두 수를 입력받아 다음 알고리즘에 의해 최대공약수를 구하는 프로그램을 작성하라. \n",
    "\n",
    "- 큰 수를 작은 수로 나눈 나머지를 구하라.\n",
    "- 큰 수를 작은수로 대체하고 작은 수는 나머지로 대체하라.\n",
    "- 작은 수가 0이 될 때까지 이 과정을 반복하라. 마지막 큰 수가 최대공약수다."
   ]
  },
  {
   "cell_type": "code",
   "execution_count": null,
   "id": "ffa8f296",
   "metadata": {},
   "outputs": [],
   "source": [
    "a = int(input(\"첫 번째 자연수를 입력하세요: \"))\n",
    "b = int(input(\"두 번째 자연수를 입력하세요: \"))\n",
    "\n",
    "while b != 0:\n",
    "    remainder = a % b\n",
    "    a, b = b, remainder  \n",
    "\n",
    "print(f\"최대공약수는 {a}입니다.\")"
   ]
  }
 ],
 "metadata": {
  "kernelspec": {
   "display_name": "base",
   "language": "python",
   "name": "python3"
  },
  "language_info": {
   "codemirror_mode": {
    "name": "ipython",
    "version": 3
   },
   "file_extension": ".py",
   "mimetype": "text/x-python",
   "name": "python",
   "nbconvert_exporter": "python",
   "pygments_lexer": "ipython3",
   "version": "3.13.5"
  }
 },
 "nbformat": 4,
 "nbformat_minor": 5
}
