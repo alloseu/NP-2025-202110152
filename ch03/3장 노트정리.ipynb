{
 "cells": [
  {
   "cell_type": "markdown",
   "id": "caba1c01",
   "metadata": {},
   "source": [
    "이 파일은 3장을 학습하면서 실행한 내용을 정리한 파일 입니다.\n",
    "\n",
    "날짜.2025.09.09\n",
    "\n",
    "저자 : 김민규"
   ]
  },
  {
   "cell_type": "markdown",
   "id": "292fb078",
   "metadata": {},
   "source": [
    "제어문"
   ]
  },
  {
   "cell_type": "code",
   "execution_count": null,
   "id": "79d00158",
   "metadata": {},
   "outputs": [],
   "source": [
    "제어문\n",
    "- 프로그램은 기본적으로 작성된 순서대로 실행되지만 제어문은 실행되는 순서를 바꾼다.\n",
    "- 종류로는 조건문, 반복문, 기타 제어문 등"
   ]
  },
  {
   "cell_type": "markdown",
   "id": "18c280b6",
   "metadata": {},
   "source": [
    "조건문(if,if-else,if-elif-else)"
   ]
  },
  {
   "cell_type": "code",
   "execution_count": null,
   "id": "b988c5b2",
   "metadata": {},
   "outputs": [],
   "source": [
    "if : 조건이 참일 경우에만 아래의 문장을 실행\n",
    "if-else : 조건이 참일 경우 if의 문장을, 거짓일 경우 else의 문장을 실행한다.\n",
    "if-elif-else : 여러개의 조건중 참이되는 하나의 조건만을 실행"
   ]
  },
  {
   "cell_type": "code",
   "execution_count": null,
   "id": "ea769e86",
   "metadata": {},
   "outputs": [],
   "source": [
    "#조건문 예제 \n",
    "score = int(input(\"정수 입력:\"))\n",
    "if score >= 90:\n",
    "    print(\"A학점, 장학금 수여\")"
   ]
  },
  {
   "cell_type": "code",
   "execution_count": null,
   "id": "c7349315",
   "metadata": {},
   "outputs": [],
   "source": [
    "#조건문 예제 (윤년 판별 예제)\n",
    "year = int(input(\"년도 입력: \"))\n",
    "if (year % 4 == 0 and year % 100 != 0) or (year % 400 == 0):\n",
    "    print(\"윤년\")\n",
    "else:\n",
    "    print(\"평년\")"
   ]
  },
  {
   "cell_type": "markdown",
   "id": "bc73330b",
   "metadata": {},
   "source": [
    "반복문(while,for)"
   ]
  },
  {
   "cell_type": "code",
   "execution_count": null,
   "id": "383b2e0c",
   "metadata": {},
   "outputs": [],
   "source": [
    "while\n",
    "- 조건이 참일 경우 문장을 계속 반복"
   ]
  },
  {
   "cell_type": "code",
   "execution_count": null,
   "id": "0218ef53",
   "metadata": {},
   "outputs": [],
   "source": [
    "#while문 예시 (1~100 합 구하기)\n",
    "i, total = 1, 0\n",
    "while i <= 100:\n",
    "    total += i\n",
    "    i += 1\n",
    "print(\"합 =\", total)"
   ]
  },
  {
   "cell_type": "code",
   "execution_count": null,
   "id": "70745593",
   "metadata": {},
   "outputs": [],
   "source": [
    "#while문 예시(10진수를 2진수로 변환)\n",
    "n = int(input(\"정수 입력: \"))\n",
    "result = \"\"\n",
    "while n != 0:\n",
    "    result = str(n % 2) + result\n",
    "    n //= 2\n",
    "print(\"2진수:\", result)"
   ]
  },
  {
   "cell_type": "code",
   "execution_count": null,
   "id": "282ee0fc",
   "metadata": {},
   "outputs": [],
   "source": [
    "for문 \n",
    "- 문장을 정해진 횟수만큼 반복한다.\n",
    "- range(start, stop, step)를 사용"
   ]
  },
  {
   "cell_type": "code",
   "execution_count": null,
   "id": "7bbbb1ec",
   "metadata": {},
   "outputs": [],
   "source": [
    "#for문의 예시 (1~100의 합)\n",
    "total = 0\n",
    "for i in range(1, 101):\n",
    "    total += i\n",
    "print(\"합 =\", total)"
   ]
  },
  {
   "cell_type": "code",
   "execution_count": null,
   "id": "7cadf2b2",
   "metadata": {},
   "outputs": [],
   "source": [
    "#for문의 예시 (구구단)\n",
    "for i in range(2, 10):\n",
    "    for j in range(1, 10):\n",
    "        print(f\"{i} x {j} = {i*j}\")"
   ]
  },
  {
   "cell_type": "code",
   "execution_count": null,
   "id": "cd0b65f3",
   "metadata": {},
   "outputs": [],
   "source": [
    "#for문의 예시 (무한 반복)\n",
    "while True:\n",
    "    print(\"계속 반복\")"
   ]
  },
  {
   "cell_type": "markdown",
   "id": "1ba8fa5d",
   "metadata": {},
   "source": [
    "기타 제어문(break,continue)"
   ]
  },
  {
   "cell_type": "code",
   "execution_count": null,
   "id": "82462980",
   "metadata": {},
   "outputs": [],
   "source": [
    "break: 반복문 강제 종료.\n",
    "continue: 해당 반복을 건너뛰고 다음 반복 실행"
   ]
  }
 ],
 "metadata": {
  "language_info": {
   "name": "python"
  }
 },
 "nbformat": 4,
 "nbformat_minor": 5
}
