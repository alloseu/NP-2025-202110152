{
 "cells": [
  {
   "cell_type": "markdown",
   "id": "c0846f0b",
   "metadata": {},
   "source": [
    "이 파일은 4장을 학습하면서 실행한 내용을 정리한 것 입니다.\n",
    "\n",
    "날짜.2025.09.09\n",
    "\n",
    "저자 : 김민규"
   ]
  },
  {
   "cell_type": "code",
   "execution_count": null,
   "id": "01c29c6b",
   "metadata": {},
   "outputs": [],
   "source": [
    "dir(str)"
   ]
  },
  {
   "cell_type": "code",
   "execution_count": 5,
   "id": "46a93aea",
   "metadata": {},
   "outputs": [
    {
     "data": {
      "text/plain": [
       "['김민규', '24', '175.3', '010-1456-1465']"
      ]
     },
     "execution_count": 5,
     "metadata": {},
     "output_type": "execute_result"
    }
   ],
   "source": [
    "aline = '김민규 24 175.3 010-1456-1465'\n",
    "aline\n",
    "\n",
    "aline.split(' ')\n",
    "taken = aline.split(' ')\n",
    "taken\n"
   ]
  },
  {
   "cell_type": "code",
   "execution_count": null,
   "id": "600a89b7",
   "metadata": {},
   "outputs": [],
   "source": []
  }
 ],
 "metadata": {
  "kernelspec": {
   "display_name": "Python 3",
   "language": "python",
   "name": "python3"
  },
  "language_info": {
   "codemirror_mode": {
    "name": "ipython",
    "version": 3
   },
   "file_extension": ".py",
   "mimetype": "text/x-python",
   "name": "python",
   "nbconvert_exporter": "python",
   "pygments_lexer": "ipython3",
   "version": "3.13.7"
  }
 },
 "nbformat": 4,
 "nbformat_minor": 5
}
