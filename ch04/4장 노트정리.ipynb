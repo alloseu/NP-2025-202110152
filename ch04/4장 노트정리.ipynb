{
 "cells": [
  {
   "cell_type": "markdown",
   "id": "c0846f0b",
   "metadata": {},
   "source": [
    "이 파일은 4장을 학습하면서 실행한 내용을 정리한 것 입니다.\n",
    "\n",
    "날짜.2025.09.09\n",
    "\n",
    "저자 : 김민규"
   ]
  },
  {
   "cell_type": "markdown",
   "id": "5f51ae6c",
   "metadata": {},
   "source": [
    "파이썬 기본 자료구조\n",
    "1. 문자열(String) – 문자들의 집합, 불변(immutable)\n",
    "2. 리스트(List) – 여러 자료를 모은 순서형, 가변(mutable)\n",
    "3. 튜플(Tuple) – 리스트와 유사하지만 불변(immutable)\n",
    "4. 딕셔너리(Dictionary) – 키(key)-값(value) 쌍\n",
    "5. 집합(Set) – 중복 없는 자료 모음"
   ]
  },
  {
   "cell_type": "markdown",
   "id": "9b992796",
   "metadata": {},
   "source": [
    "문자열\n",
    "- ' ' 또는 \" \"로 감싼 문자들의 집합이다\n",
    "- 여러 줄 문자열 → ''' ... ''' 또는 \"\"\" ... \"\"\"\n",
    "- 불변(immutable) → 값 수정 불가\n",
    "\n",
    "인덱싱(Indexing)\n",
    "0부터 시작하며 음수 인덱스가 가능하다"
   ]
  },
  {
   "cell_type": "code",
   "execution_count": null,
   "id": "600a89b7",
   "metadata": {},
   "outputs": [],
   "source": [
    "#인덱싱의 예시\n",
    "word = 'Python'\n",
    "word[0]   # 'P'\n",
    "word[5]   # 'n'\n",
    "word[-1]  # 'n'\n",
    "word[-6]  # 'P'"
   ]
  },
  {
   "cell_type": "code",
   "execution_count": null,
   "id": "faef8d35",
   "metadata": {},
   "outputs": [],
   "source": [
    "#불변성의  예시\n",
    "word[0] = 'J'  # 오류 발생\n",
    "# 새 문자열 생성해야 함\n",
    "word2 = 'J' + word[1:]   # 'Jython'"
   ]
  },
  {
   "cell_type": "markdown",
   "id": "d87eda08",
   "metadata": {},
   "source": [
    "리스트 (List)\n",
    "\n",
    "특징\n",
    "- 여러 자료를 순서 있게 저장 (가변적)\n",
    "- [] 또는 list() 사용\n",
    "- 다양한 자료형 혼합 가능"
   ]
  },
  {
   "cell_type": "code",
   "execution_count": null,
   "id": "bdde45ba",
   "metadata": {},
   "outputs": [],
   "source": [
    "# 생성과 접근\n",
    "odd = [1, 3, 5]\n",
    "a = [1, 'hello', 3.14]\n",
    "squares = [1, 4, 9, 16]\n",
    "squares[0]   # 1\n",
    "squares[-1]  # 16\n",
    "squares[0:2] # [1, 4]\n",
    "\n",
    "# 수정/추가/삭제\n",
    "cubes = [1, 8, 27, 65, 125]\n",
    "cubes[3] = 64      # 수정\n",
    "cubes.append(216)  # 추가\n",
    "del cubes[0]       # 삭제"
   ]
  },
  {
   "cell_type": "code",
   "execution_count": null,
   "id": "bfc0ee83",
   "metadata": {},
   "outputs": [],
   "source": [
    "#중첩 리스트 (2D)\n",
    "list2d = [[1,2,3],[4,5,6],[7,8,9]]\n",
    "list2d[0][0]  # 1\n",
    "list2d[2][2]  # 9\n",
    "\n",
    "#내장 함수\n",
    "len([1,2,3])   # 3\n",
    "sum([1,2,3])   # 6\n",
    "min([1,2,3])   # 1\n",
    "max([1,2,3])   # 3"
   ]
  },
  {
   "cell_type": "markdown",
   "id": "a6dbb5f3",
   "metadata": {},
   "source": [
    "튜플 (Tuple)\n",
    "\n",
    "특징\n",
    "- 리스트와 유사하나 불변(immutable)\n",
    "- () 또는 tuple() 사용\n",
    "- 요소 1개일 경우 (1,) 쉼표 필요"
   ]
  },
  {
   "cell_type": "code",
   "execution_count": null,
   "id": "fbfec03d",
   "metadata": {},
   "outputs": [],
   "source": [
    "#튜플의 활용\n",
    "t1 = (1,2,3)\n",
    "t1[1]    # 2\n",
    "t1 + (4,5) # (1,2,3,4,5)\n",
    "t1 * 2     # (1,2,3,1,2,3)\n",
    "\n",
    "#변환 및 패킹\n",
    "list((1,2,3))      # [1,2,3]\n",
    "tuple([1,2,3,4])   # (1,2,3,4)\n",
    "a,b,c = (1,2,3)    # 언패킹"
   ]
  },
  {
   "cell_type": "markdown",
   "id": "f280236b",
   "metadata": {},
   "source": [
    "딕셔너리 (Dictionary)\n",
    "\n",
    "특징\n",
    "- 키(key):값(value) 구조\n",
    "- 키는 변경 불가능 타입 (정수, 문자열, 튜플), 값은 아무 자료형 가능\n",
    "- 순서 X (파이썬 3.7+에서는 입력 순서 유지)"
   ]
  },
  {
   "cell_type": "code",
   "execution_count": null,
   "id": "d2e93008",
   "metadata": {},
   "outputs": [],
   "source": [
    "#딕셔너리의 활용\n",
    "height = {'Jun':174, 'Kim':170}\n",
    "height['Kim']        # 170\n",
    "height['Lee'] = 180  # 추가\n",
    "height.pop('Kim')    # 제거\n",
    "\n",
    "#메소드\n",
    "height.keys()   # dict_keys(['Jun','Lee'])\n",
    "height.values() # dict_values([174,180])\n",
    "height.items()  # dict_items([('Jun',174),('Lee',180)])"
   ]
  },
  {
   "cell_type": "markdown",
   "id": "f0e3d085",
   "metadata": {},
   "source": [
    "집합 (Set)\n",
    "\n",
    "특징\n",
    "- 중복 없는 자료형, 순서 없음\n",
    "- {} 또는 set() 사용"
   ]
  },
  {
   "cell_type": "code",
   "execution_count": null,
   "id": "448820d3",
   "metadata": {},
   "outputs": [],
   "source": [
    "# 연산\n",
    "A = {1,2,3}\n",
    "B = {2,3,4}\n",
    "A & B   # {2,3}\n",
    "A | B   # {1,2,3,4}\n",
    "A - B   # {1}\n"
   ]
  },
  {
   "cell_type": "code",
   "execution_count": null,
   "id": "b587157e",
   "metadata": {},
   "outputs": [],
   "source": [
    "# 부분집합\n",
    "A = {1,2,3,4,5}\n",
    "B = {1,2,3}\n",
    "B < A            # True\n",
    "B.issubset(A)    # True"
   ]
  },
  {
   "cell_type": "code",
   "execution_count": null,
   "id": "805b53b8",
   "metadata": {},
   "outputs": [],
   "source": [
    "# 집합 예제 \n",
    "import random\n",
    "pick = set()\n",
    "while len(pick) < 6:\n",
    "    n = random.randint(1,45)\n",
    "    pick.add(n)\n",
    "print(sorted(pick))\n"
   ]
  }
 ],
 "metadata": {
  "kernelspec": {
   "display_name": "Python 3",
   "language": "python",
   "name": "python3"
  },
  "language_info": {
   "codemirror_mode": {
    "name": "ipython",
    "version": 3
   },
   "file_extension": ".py",
   "mimetype": "text/x-python",
   "name": "python",
   "nbconvert_exporter": "python",
   "pygments_lexer": "ipython3",
   "version": "3.13.7"
  }
 },
 "nbformat": 4,
 "nbformat_minor": 5
}
