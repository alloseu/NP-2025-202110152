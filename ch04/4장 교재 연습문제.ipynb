{
 "cells": [
  {
   "cell_type": "markdown",
   "id": "ad56b38e",
   "metadata": {},
   "source": [
    "이 파일은 4장의 연습문제를 작성한 파일입니다.\n",
    "\n",
    "날짜.2025.10.01\n",
    "\n",
    "저자 : 김민규(202110152)"
   ]
  },
  {
   "cell_type": "markdown",
   "id": "2202a5fe",
   "metadata": {},
   "source": [
    "연습문제 1. 리스트를 이용해 두 3x3 행렬의 덧셈을 계산하는 프로그램을 실행해 보라"
   ]
  },
  {
   "cell_type": "code",
   "execution_count": null,
   "id": "ead6f4ac",
   "metadata": {},
   "outputs": [],
   "source": [
    "matrix1 = [\n",
    "    [1, 2, 3],\n",
    "    [4, 5, 6],\n",
    "    [7, 8, 9]\n",
    "]\n",
    "\n",
    "matrix2 = [\n",
    "    [9, 8, 7],\n",
    "    [6, 5, 4],\n",
    "    [3, 2, 1]\n",
    "]\n",
    "\n",
    "result = [[0 for _ in range(3)] for _ in range(3)]\n",
    "\n",
    "for i in range(3):\n",
    "    for j in range(3):\n",
    "        result[i][j] = matrix1[i][j] + matrix2[i][j]\n",
    "\n",
    "print(\"두 행렬의 합:\")\n",
    "for row in result:\n",
    "    print(row)"
   ]
  },
  {
   "cell_type": "markdown",
   "id": "3dfdd711",
   "metadata": {},
   "source": [
    "연습문제 2. 위 프로그램을 임의의 두 mxn 행렬의 덧셈을 계산할 수 있도록 확장해 보라."
   ]
  },
  {
   "cell_type": "code",
   "execution_count": null,
   "id": "e190bf5c",
   "metadata": {},
   "outputs": [],
   "source": [
    "m = int(input(\"행의 수(m): \"))\n",
    "n = int(input(\"열의 수(n): \"))\n",
    "\n",
    "print(\"첫 번째 행렬 입력:\")\n",
    "matrix1 = []\n",
    "for i in range(m):\n",
    "    row = list(map(int, input(f\"{i+1}번째 행의 {n}개 숫자 입력 (공백으로 구분): \").split()))\n",
    "    matrix1.append(row)\n",
    "\n",
    "print(\"두 번째 행렬 입력:\")\n",
    "matrix2 = []\n",
    "for i in range(m):\n",
    "    row = list(map(int, input(f\"{i+1}번째 행의 {n}개 숫자 입력 (공백으로 구분): \").split()))\n",
    "    matrix2.append(row)\n",
    "\n",
    "result = []\n",
    "for i in range(m):\n",
    "    row = []\n",
    "    for j in range(n):\n",
    "        row.append(matrix1[i][j] + matrix2[i][j])\n",
    "    result.append(row)\n",
    "\n",
    "print(\"두 행렬의 합:\")\n",
    "for row in result:\n",
    "    print(row)"
   ]
  },
  {
   "cell_type": "markdown",
   "id": "61273255",
   "metadata": {},
   "source": [
    "연습문제 3. 사각형의 가로와 세로가 주어지면 사각형의 넓이와 둘레를 계산해 튜플에 패킹하는 프로그램을 작성하라."
   ]
  },
  {
   "cell_type": "code",
   "execution_count": null,
   "id": "ac2f4948",
   "metadata": {},
   "outputs": [],
   "source": [
    "width = float(input(\"사각형의 가로 길이를 입력하세요: \"))\n",
    "height = float(input(\"사각형의 세로 길이를 입력하세요: \"))\n",
    "\n",
    "area = width * height\n",
    "perimeter = 2 * (width + height)\n",
    "\n",
    "rectangle_info = (area, perimeter)\n",
    "\n",
    "print(f\"사각형의 넓이와 둘레: {rectangle_info}\")"
   ]
  }
 ],
 "metadata": {
  "language_info": {
   "name": "python"
  }
 },
 "nbformat": 4,
 "nbformat_minor": 5
}
