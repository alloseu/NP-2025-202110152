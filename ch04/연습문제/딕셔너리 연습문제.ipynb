{
 "cells": [
  {
   "cell_type": "markdown",
   "id": "bf845388",
   "metadata": {},
   "source": [
    "다음 딕셔너리에 대해 물음에 답하라.\n",
    "days = { 'January': 31, 'February': 28, 'March': 31, 'April': 30,\n",
    "'May': 31, 'June': 30, 'July': 31, 'August': 31,\n",
    "'September': 30, 'October': 31, 'November': 30, 'December': 31 }\n",
    "• 사용자가 월을 입력하면 해당 월에 일수를 출력하라\n",
    "• 알파벳 순서로 모든 월을 출력하라\n",
    "• 일수가 31인 월을 모두 출력하라\n",
    "• 월의 일수를 기준으로 오름차순으로 (key-value) 쌍을 출력하라\n",
    "• 사용자가 월을 3자리만 입력하면 월의 일수를 출력하라. (Jan, Feb 등)\n"
   ]
  },
  {
   "cell_type": "code",
   "execution_count": null,
   "id": "a6bed14b",
   "metadata": {},
   "outputs": [],
   "source": [
    "days = {\n",
    "    'January': 31, 'February': 28, 'March': 31, 'April': 30,\n",
    "    'May': 31, 'June': 30, 'July': 31, 'August': 31,\n",
    "    'September': 30, 'October': 31, 'November': 30, 'December': 31\n",
    "}\n",
    "\n",
    "month_input = input(\"월 이름을 입력하세요 (예: March): \")\n",
    "print(days.get(month_input, \"존재하지 않는 월입니다.\"))\n",
    "\n",
    "print(sorted(days.keys()))\n",
    "\n",
    "months_31 = [month for month, days_count in days.items() if days_count == 31]\n",
    "print(months_31)\n",
    "\n",
    "sorted_by_days = sorted(days.items(), key=lambda x: x[1])\n",
    "print(sorted_by_days)\n",
    "\n",
    "abbr_input = input(\"월을 3자리로 입력하세요 (예: Jan): \")\n",
    "abbr_to_full = {month[:3]: month for month in days}\n",
    "full_month = abbr_to_full.get(abbr_input, None)\n",
    "\n",
    "if full_month:\n",
    "    print(days[full_month])\n",
    "else:\n",
    "    print(\"존재하지 않는 약어입니다.\")"
   ]
  }
 ],
 "metadata": {
  "language_info": {
   "name": "python"
  }
 },
 "nbformat": 4,
 "nbformat_minor": 5
}
