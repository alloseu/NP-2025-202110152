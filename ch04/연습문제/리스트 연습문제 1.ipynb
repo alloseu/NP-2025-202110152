{
 "cells": [
  {
   "cell_type": "markdown",
   "id": "13396c4c",
   "metadata": {},
   "source": [
    "연습문제 1\n",
    "3명 이상 친구 이름 리스트를 작성하시오\n",
    "- insert()로 맨 앞에 새로운 친구 추가\n",
    "- insert()로 3번째 위치에 새로운 친구 추가\n",
    "- append()로 마지막에 친구 추가"
   ]
  },
  {
   "cell_type": "code",
   "execution_count": null,
   "id": "96b5a907",
   "metadata": {},
   "outputs": [],
   "source": [
    "friends = [ \"민규\", \"지훈\", \"수빈\", \"예진\" ]\n",
    "\n",
    "friends.insert( 0, \"태현\" )\n",
    "friends.insert( 2, \"하늘\" )\n",
    "friends.append( \"다은\" )\n",
    "print( friends )"
   ]
  },
  {
   "cell_type": "markdown",
   "id": "3e1b8e32",
   "metadata": {},
   "source": [
    "연습문제 2\n",
    "리스트 [1, 2, 3]에 대해 다음과 같은 처리를 하시오\n",
    "- 두 번째 요소를 17로 수정\n",
    "- 리스트에 4, 5, 6을 추가\n",
    "- 첫 번째 요소 제거\n",
    "- 리스트를 요소 순서대로 배열하기\n",
    "- 인덱스 3에 25 넣기"
   ]
  },
  {
   "cell_type": "code",
   "execution_count": null,
   "id": "a3cbbc17",
   "metadata": {},
   "outputs": [],
   "source": [
    "numbers = [ 1, 2, 3 ]\n",
    "\n",
    "numbers[ 1 ] = 17\n",
    "numbers.extend( [ 4, 5, 6 ] )\n",
    "del numbers[ 0 ]\n",
    "numbers.sort()\n",
    "numbers.insert( 3, 25 )\n",
    "print( numbers )"
   ]
  }
 ],
 "metadata": {
  "language_info": {
   "name": "python"
  }
 },
 "nbformat": 4,
 "nbformat_minor": 5
}
