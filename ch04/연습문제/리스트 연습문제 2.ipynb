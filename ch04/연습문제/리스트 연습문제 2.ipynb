{
 "cells": [
  {
   "cell_type": "markdown",
   "id": "28ad8aff",
   "metadata": {},
   "source": [
    "1. for 루프를 이용하여 다음과 같은 리스트를 생성하라\n",
    "- 0부터 49까지의 수로 구성되는 리스트\n",
    "- 1부터 50까지 수의 제곱으로 구성되는 리스트\n"
   ]
  },
  {
   "cell_type": "code",
   "execution_count": 1,
   "id": "da749a46",
   "metadata": {},
   "outputs": [
    {
     "name": "stdout",
     "output_type": "stream",
     "text": [
      "[0, 1, 2, 3, 4, 5, 6, 7, 8, 9, 10, 11, 12, 13, 14, 15, 16, 17, 18, 19, 20, 21, 22, 23, 24, 25, 26, 27, 28, 29, 30, 31, 32, 33, 34, 35, 36, 37, 38, 39, 40, 41, 42, 43, 44, 45, 46, 47, 48, 49]\n",
      "[1, 4, 9, 16, 25, 36, 49, 64, 81, 100, 121, 144, 169, 196, 225, 256, 289, 324, 361, 400, 441, 484, 529, 576, 625, 676, 729, 784, 841, 900, 961, 1024, 1089, 1156, 1225, 1296, 1369, 1444, 1521, 1600, 1681, 1764, 1849, 1936, 2025, 2116, 2209, 2304, 2401, 2500]\n"
     ]
    }
   ],
   "source": [
    "list = [ i for i in range(50) ]\n",
    "squares = [ i**2 for i in range(1, 51) ]\n",
    "\n",
    "print(list)\n",
    "print(squares)"
   ]
  },
  {
   "cell_type": "markdown",
   "id": "6bdb3ca8",
   "metadata": {},
   "source": [
    " 2. 크기가 같은 두 개의 리스트 L, M을 생성하고\n",
    "두 리스트의 각 요소 합으로 구성되는 새로운 리스트를 생성하라\n",
    "\n",
    "(예를 들어 L = [1, 2, 3]이고 M = [4, 5, 6]이면\n",
    "→ 결과 리스트는 [5, 7, 9])\n",
    "\n"
   ]
  },
  {
   "cell_type": "code",
   "execution_count": null,
   "id": "67ed81ad",
   "metadata": {},
   "outputs": [],
   "source": [
    "L = [ 1, 2, 3 ]\n",
    "M = [ 4, 5, 6 ]\n",
    "sum_list = [ L[i] + M[i] for i in range(len(L)) ]\n",
    "\n",
    "print(sum_list)"
   ]
  },
  {
   "cell_type": "markdown",
   "id": "c46c6dd0",
   "metadata": {},
   "source": [
    " 3. 사용자로부터 5개의 숫자를 문자열로 입력받아\n",
    "각 숫자를 +로 연결한 문자열을 생성하라\n",
    "\n",
    "(예를 들어 2, 5, 11, 33, 55를 입력하면\n",
    "'2+5+11+33+55'를 생성)"
   ]
  },
  {
   "cell_type": "code",
   "execution_count": null,
   "id": "8e139b57",
   "metadata": {},
   "outputs": [],
   "source": [
    "inputs = []\n",
    "\n",
    "for i in range(5):\n",
    "    num = input(f\"{i+1}번째 숫자를 입력하세요: \")\n",
    "    inputs.append(num)\n",
    "\n",
    "joined_string = '+'.join(inputs)\n",
    "\n",
    "print(joined_string)\n"
   ]
  }
 ],
 "metadata": {
  "kernelspec": {
   "display_name": "Python 3",
   "language": "python",
   "name": "python3"
  },
  "language_info": {
   "codemirror_mode": {
    "name": "ipython",
    "version": 3
   },
   "file_extension": ".py",
   "mimetype": "text/x-python",
   "name": "python",
   "nbconvert_exporter": "python",
   "pygments_lexer": "ipython3",
   "version": "3.13.7"
  }
 },
 "nbformat": 4,
 "nbformat_minor": 5
}
