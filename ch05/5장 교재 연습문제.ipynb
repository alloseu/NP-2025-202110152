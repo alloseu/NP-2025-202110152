{
 "cells": [
  {
   "cell_type": "markdown",
   "id": "4a1d11a6",
   "metadata": {},
   "source": [
    "이 파일은 5장의 연습문제를 작성한 파일입니다.\n",
    "\n",
    "날짜.2025.10.01\n",
    "\n",
    "저자 : 김민규(202110152)"
   ]
  },
  {
   "cell_type": "markdown",
   "id": "869cf5ee",
   "metadata": {},
   "source": [
    "연습문제 1. 두 개의 매개변수 n,m을 전달받아 m x n 개의 * 상자를 출력하는 프로그램을 작성하라."
   ]
  },
  {
   "cell_type": "code",
   "execution_count": null,
   "id": "12bed021",
   "metadata": {},
   "outputs": [],
   "source": [
    "def print_star_box(n, m):\n",
    "    for _ in range(m):\n",
    "        print(\"*\" * n)\n",
    "\n",
    "n = int(input(\"가로(n) 개수를 입력하세요: \"))\n",
    "m = int(input(\"세로(m) 개수를 입력하세요: \"))\n",
    "print_star_box(n, m)"
   ]
  },
  {
   "cell_type": "markdown",
   "id": "2e92e04a",
   "metadata": {},
   "source": [
    "연습문제 2. 하나의 숫자를 전달받아 숫자의 자리 합을 구하는 함수를 작성하라.(예: 123 -> 1+2+3 = 6)"
   ]
  },
  {
   "cell_type": "code",
   "execution_count": null,
   "id": "ddfde2d7",
   "metadata": {},
   "outputs": [],
   "source": [
    "def digit_sum(n):\n",
    "    total = 0\n",
    "    while n > 0:\n",
    "        total += n % 10  \n",
    "        n //= 10      \n",
    "    return total\n",
    "\n",
    "number = int(input(\"숫자를 입력하세요: \"))\n",
    "print(f\"{number}의 자리수 합은 {digit_sum(number)}입니다.\")"
   ]
  },
  {
   "cell_type": "markdown",
   "id": "6709b3e2",
   "metadata": {},
   "source": [
    "연습문제 3. 두 개의 문자열이 서로 다른 처음 위치를 반환하는 함수를 작성. 두 개의 문자열이 같으면 -1을 반환"
   ]
  },
  {
   "cell_type": "code",
   "execution_count": null,
   "id": "0cb1bbd5",
   "metadata": {},
   "outputs": [],
   "source": [
    "def first_diff_index(str1, str2):\n",
    "    min_len = min(len(str1), len(str2))\n",
    "    \n",
    "    for i in range(min_len):\n",
    "        if str1[i] != str2[i]:\n",
    "            return i\n",
    "    \n",
    "    if len(str1) != len(str2):\n",
    "        return min_len\n",
    "    return -1\n",
    "\n",
    "s1 = input(\"첫 번째 문자열을 입력하세요: \")\n",
    "s2 = input(\"두 번째 문자열을 입력하세요: \")\n",
    "\n",
    "result = first_diff_index(s1, s2)\n",
    "if result == -1:\n",
    "    print(\"두 문자열은 완전히 같습니다.\")\n",
    "else:\n",
    "    print(f\"처음으로 다른 위치는 인덱스 {result}입니다.\")"
   ]
  },
  {
   "cell_type": "markdown",
   "id": "f3762769",
   "metadata": {},
   "source": [
    "연습문제 4. 자를 전달받아 그 수의 약수를 반환하는 함수를 작성하라."
   ]
  },
  {
   "cell_type": "code",
   "execution_count": null,
   "id": "f8068a17",
   "metadata": {},
   "outputs": [],
   "source": [
    "def get_divisors(n):\n",
    "    divisors = []\n",
    "    for i in range(1, n + 1):\n",
    "        if n % i == 0:\n",
    "            divisors.append(i)\n",
    "    return divisors\n",
    "\n",
    "number = int(input(\"자연수를 입력하세요: \"))\n",
    "print(f\"{number}의 약수: {get_divisors(number)}\")"
   ]
  },
  {
   "cell_type": "markdown",
   "id": "5905f83d",
   "metadata": {},
   "source": [
    "연습문제 5. 문자열과 하나의 문자를 전달받아 문자열에서 문자의 위치를 모두 찾아 리스트로 반환하는 함수를 작성하라."
   ]
  },
  {
   "cell_type": "code",
   "execution_count": null,
   "id": "3700610d",
   "metadata": {},
   "outputs": [],
   "source": [
    "def find_char_positions(text, char):\n",
    "    positions = []\n",
    "    for i in range(len(text)):\n",
    "        if text[i] == char:\n",
    "            positions.append(i)\n",
    "    return positions\n",
    "\n",
    "string = input(\"문자열을 입력하세요: \")\n",
    "target = input(\"찾을 문자를 입력하세요: \")\n",
    "\n",
    "result = find_char_positions(string, target)\n",
    "print(f\"'{target}' 문자의 위치: {result}\")"
   ]
  },
  {
   "cell_type": "markdown",
   "id": "65d84dd2",
   "metadata": {},
   "source": [
    "연습문제 6. 원의 반지름을 주면 원의 넓이를 계산하는 함수를 작성하라."
   ]
  },
  {
   "cell_type": "code",
   "execution_count": null,
   "id": "bf365389",
   "metadata": {},
   "outputs": [],
   "source": [
    "import math\n",
    "def circle_area(radius):\n",
    "    return math.pi * radius ** 2\n",
    "\n",
    "r = float(input(\"원의 반지름을 입력하세요: \"))\n",
    "area = circle_area(r)\n",
    "print(f\"반지름 {r}인 원의 넓이는 {area:.2f}입니다.\")"
   ]
  },
  {
   "cell_type": "markdown",
   "id": "6a1cc419",
   "metadata": {},
   "source": [
    "연습문제 7. 구의 반지름을 주면 구의 부피를 계산하는 함수 sphereVolume()을 작성하라."
   ]
  },
  {
   "cell_type": "code",
   "execution_count": null,
   "id": "c0df376b",
   "metadata": {},
   "outputs": [],
   "source": [
    "import math\n",
    "def sphereVolume(radius):\n",
    "    return (4 / 3) * math.pi * radius ** 3\n",
    "\n",
    "r = float(input(\"구의 반지름을 입력하세요: \"))\n",
    "volume = sphereVolume(r)\n",
    "print(f\"반지름 {r}인 구의 부피는 {volume:.2f}입니다.\")"
   ]
  },
  {
   "cell_type": "markdown",
   "id": "f223e710",
   "metadata": {},
   "source": [
    "연습문제 8. 크지 않은 자연수 n을 매개변수로 받아 n!(팩토리얼)을 계산해 반환하는 함수를 작성하라"
   ]
  },
  {
   "cell_type": "code",
   "execution_count": null,
   "id": "d3bfdf21",
   "metadata": {},
   "outputs": [],
   "source": [
    "def factorial(n):\n",
    "    result = 1\n",
    "    for i in range(2, n + 1):\n",
    "        result *= i\n",
    "    return result\n",
    "\n",
    "num = int(input(\"자연수 n을 입력하세요: \"))\n",
    "print(f\"{num}! = {factorial(num)}\")"
   ]
  },
  {
   "cell_type": "markdown",
   "id": "bc108b1c",
   "metadata": {},
   "source": [
    "연습문제 9. 두 개의 정수가 주저지면 두 수 중에서 더 큰 수를 찾아서 이것을 반환하는 함수"
   ]
  },
  {
   "cell_type": "code",
   "execution_count": null,
   "id": "6a73c473",
   "metadata": {},
   "outputs": [],
   "source": [
    "def max_of_two(a, b):\n",
    "    if a > b:\n",
    "        return a\n",
    "    else:\n",
    "        return b\n",
    "\n",
    "x = int(input(\"첫 번째 정수를 입력하세요: \"))\n",
    "y = int(input(\"두 번째 정수를 입력하세요: \"))\n",
    "print(f\"더 큰 수는 {max_of_two(x, y)}입니다.\")"
   ]
  },
  {
   "cell_type": "markdown",
   "id": "c6b72fa0",
   "metadata": {},
   "source": [
    "연습문제 10. 섭씨온도를 화씨온도로 변환하여 반환하는 함수"
   ]
  },
  {
   "cell_type": "code",
   "execution_count": null,
   "id": "5d0369ab",
   "metadata": {},
   "outputs": [],
   "source": [
    "def celsius_to_fahrenheit(celsius):\n",
    "    return (9 / 5) * celsius + 32\n",
    "\n",
    "c = float(input(\"섭씨 온도를 입력하세요: \"))\n",
    "f = celsius_to_fahrenheit(c)\n",
    "print(f\"섭씨 {c}도는 화씨 {f:.2f}도입니다.\")"
   ]
  },
  {
   "cell_type": "markdown",
   "id": "a8ecdd89",
   "metadata": {},
   "source": [
    "연습문제 11. 3장의 x^n을 계산하는 반복문 예제 프로그램(power.py)은 n이 양의 정수라는 제약사항이 있다. 이것을 확장해 n이 양, 음, 0일 경우에도 동작하는 함수를 만들고 이것을 시험해 보라."
   ]
  },
  {
   "cell_type": "code",
   "execution_count": null,
   "id": "bee048f0",
   "metadata": {},
   "outputs": [],
   "source": [
    "\n",
    "def power(x, n):\n",
    "    result = 1\n",
    "    if n > 0:\n",
    "        for _ in range(n):\n",
    "            result *= x\n",
    "    elif n < 0:\n",
    "        for _ in range(-n):\n",
    "            result *= x\n",
    "        result = 1 / result\n",
    "    return result\n",
    "\n",
    "x = float(input(\"밑 x를 입력하세요: \"))\n",
    "n = int(input(\"지수 n을 입력하세요: \"))\n",
    "print(f\"{x}^{n} = {power(x, n)}\")"
   ]
  },
  {
   "cell_type": "markdown",
   "id": "31492c63",
   "metadata": {},
   "source": [
    "연습문제 12. 자연수 n이 소수인지 판별하는 함수 isPrime(n)을 만들고 이를 이용해 1부터 500까지 모든 소수를 출력하는 프로그램을 작성하라."
   ]
  },
  {
   "cell_type": "code",
   "execution_count": null,
   "id": "f617405d",
   "metadata": {},
   "outputs": [],
   "source": [
    "def isPrime(n):\n",
    "    if n < 2:\n",
    "        return False\n",
    "    for i in range(2, int(n ** 0.5) + 1):\n",
    "        if n % i == 0:\n",
    "            return False\n",
    "    return True\n",
    "\n",
    "print(\"1부터 500까지의 소수:\")\n",
    "for num in range(1, 501):\n",
    "    if isPrime(num):\n",
    "        print(num, end=' ')"
   ]
  },
  {
   "cell_type": "markdown",
   "id": "9d4de898",
   "metadata": {},
   "source": [
    "연습문제 13. 사각형의 가로와 세로가 주어지면 사각형의 넓이와 둘레를 튜플로 반환하는 함수를 만들고 이를 실행해 보라."
   ]
  },
  {
   "cell_type": "code",
   "execution_count": null,
   "id": "85947c11",
   "metadata": {},
   "outputs": [],
   "source": [
    "def rectangle_info(width, height):\n",
    "    area = width * height\n",
    "    perimeter = 2 * (width + height)\n",
    "    return (area, perimeter)\n",
    "\n",
    "w = float(input(\"가로 길이를 입력하세요: \"))\n",
    "h = float(input(\"세로 길이를 입력하세요: \"))\n",
    "result = rectangle_info(w, h)\n",
    "\n",
    "print(f\"넓이: {result[0]}, 둘레: {result[1]}\")"
   ]
  }
 ],
 "metadata": {
  "language_info": {
   "name": "python"
  }
 },
 "nbformat": 4,
 "nbformat_minor": 5
}
