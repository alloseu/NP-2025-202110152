{
 "cells": [
  {
   "cell_type": "markdown",
   "id": "dab30b3e",
   "metadata": {},
   "source": [
    "이 파일은 5장을 학습하면서 실행한 내용을 정리한 것 입니다.\n",
    "\n",
    "날짜.2025.09.17\n",
    "\n",
    "저자 : 김민규"
   ]
  },
  {
   "cell_type": "markdown",
   "id": "0419f1f1",
   "metadata": {},
   "source": [
    "<함수>"
   ]
  },
  {
   "cell_type": "markdown",
   "id": "ab464d7d",
   "metadata": {},
   "source": [
    "이름을 붙여서 반복적으로 사용할 수 있는 프로그램 부분을 말하며 주요 예시로는 print(),input(),int(),str() 등이 있다.\n",
    "\n",
    "함수를 사용하는 이유\n",
    "- 프로그램 안에서 중복된 코드를 제거\n",
    "- 복잡한 프로그래밍 작업을 더 간단한 작업들로 분해할 수 있다\n",
    "- 이미 만들어진 함수는 다른 프로그램에서도 재사용 가능\n",
    "- 가독성 증대 및 유지관리가 쉬워진다.\n",
    "\n"
   ]
  },
  {
   "cell_type": "markdown",
   "id": "cf1971f2",
   "metadata": {},
   "source": [
    "<함수의 정의 및 호출>\n",
    "\n",
    "def 함수이름(매개변수)\n",
    "\n",
    "return 값"
   ]
  },
  {
   "cell_type": "markdown",
   "id": "b796dc49",
   "metadata": {},
   "source": [
    "<함수의 사용 예시>\n",
    "\n",
    "반지름을 전달하면 원의 면적을 반환하는 cir_area(r)함수와 원의 둘레를 반환하는 cir_cirm(r)함수를 작성하라.그 이 함수들을 이용하여 반지름이 3.5인 원의 면적과 둘레를 소수점 아래 첫 자리까지 구하라."
   ]
  },
  {
   "cell_type": "code",
   "execution_count": null,
   "id": "52493266",
   "metadata": {},
   "outputs": [],
   "source": [
    "#원의 면적을 계산하는 함수\n",
    "def cir_area(r):\n",
    "    return math.pi * r ** 2\n",
    "\n",
    "#원의 둘레를 계산하는 함수\n",
    "def cir_circum(r):\n",
    "    return 2 * math.pi * r"
   ]
  },
  {
   "cell_type": "code",
   "execution_count": 2,
   "id": "e506c424",
   "metadata": {},
   "outputs": [
    {
     "name": "stdout",
     "output_type": "stream",
     "text": [
      "반지름이 3.5인 원의 면적: 38.5\n",
      "반지름이 3.5인 원의 둘레: 22.0\n"
     ]
    }
   ],
   "source": [
    "import math\n",
    "def cir_area(r):\n",
    "    return math.pi * r ** 2\n",
    "\n",
    "def cir_cirm(r):\n",
    "    return 2 * math.pi * r\n",
    "\n",
    "# 반지름 3.5일 때 계산\n",
    "radius = 3.5\n",
    "area = cir_area(radius)\n",
    "circumference = cir_cirm(radius)\n",
    "\n",
    "# 결과 출력 (소수점 아래 첫 자리까지)\n",
    "print(\"반지름이 3.5인 원의 면적: {:.1f}\".format(area))\n",
    "print(\"반지름이 3.5인 원의 둘레: {:.1f}\".format(circumference))"
   ]
  },
  {
   "cell_type": "code",
   "execution_count": null,
   "id": "feb4e19d",
   "metadata": {},
   "outputs": [],
   "source": [
    "<지역 변수 및 전역변수>\n",
    "\n",
    "-지역변수 : 함수 내에서 선언된 변수, 함수가 끝나면 사라짐\n",
    "-전역변수 : 함수 밖에서 선언된 변수, 프로그램이 끝날 때까지 유지됨\n",
    "\n",
    "# 함수선언부\n",
    "def func1() :\n",
    "    v = 10 # 함수func1()안의 지역변수. 지역변수가 우선 사용\n",
    "    print(\"func1()의v = %d\" % v)\n",
    " def func2() :\n",
    "    print(\"func2()의v = %d\" % v) # 함수 func2() 안의 전역 변수\n",
    "\n",
    "# 전역변수\n",
    "v = 20 # 전역변수이므로 프로그램 내에서 유효\n",
    "\n",
    "func1() \n",
    "func2()"
   ]
  },
  {
   "cell_type": "code",
   "execution_count": null,
   "id": "82716b01",
   "metadata": {},
   "outputs": [],
   "source": [
    "<람다 함수>\n",
    "- 이름이 없는 한 줄짜리 함수\n",
    "- lambda parameters: expr lambda 함수의정의\n",
    "- parameters는 매개변수, expr는 결과가 return 되는 수식\n",
    "- lambda x, y: x + y 매개변수x, y를 전달받아x + y를 리턴"
   ]
  },
  {
   "cell_type": "markdown",
   "id": "09070c2d",
   "metadata": {},
   "source": [
    "재귀함수(recursion function)\n",
    "- 함수 내에서 자기 자신을 호출하는 함수\n",
    "- 같은 동작을 반복할 때 재귀함수 사용\n",
    "- 함수가 종료되는 조건을 반드시 포함해야 한다"
   ]
  },
  {
   "cell_type": "code",
   "execution_count": 3,
   "id": "8e2682cc",
   "metadata": {},
   "outputs": [
    {
     "name": "stdout",
     "output_type": "stream",
     "text": [
      "120\n"
     ]
    }
   ],
   "source": [
    "#재귀 함수의 예 (factorial을 구하는 재귀 함수)\n",
    "def factorial(n):\n",
    "    if n == 1:  # 종료 조건\n",
    "        return 1\n",
    "    else:\n",
    "        return n * factorial(n - 1)  # 자기 자신을 호출\n",
    "print(factorial(5))  "
   ]
  },
  {
   "cell_type": "markdown",
   "id": "7401763e",
   "metadata": {},
   "source": [
    "<내장 함수의 종류>"
   ]
  },
  {
   "cell_type": "code",
   "execution_count": null,
   "id": "55ee6ec1",
   "metadata": {},
   "outputs": [],
   "source": [
    "eval - 문자열로 표시된 expr의 계산 결과를 반환.(계산할 수 업승면 오류)\n",
    "\n",
    "int - 문자열이나 숫자를 정수로 변환\n",
    "\n",
    "filter - 반복 가능한 자료형(리스트, 튜플, 문자열 등)의 각 요소에 함수(func)를 적용해 참(True)인 것만 묶어서 반환\n",
    "\n",
    "map - 반복 가능한 자료형(리스트, 튜플, 문자열 등)의 각 요소에 함수(func)를 적용한 결과를 묶어서 반환\n",
    "\n",
    "ord - 딕셔너리 자료형에서 키와 값을 튜플 형태로 묶어서 반환\n",
    "\n",
    "repr - 객체를 문자열로 변환하여 반환\n",
    "\n",
    "round - 숫자를 반올림하여 반환\n",
    "\n",
    "zip - 동일한 개수로 이루어진 자료형(리스트, 튜플 등)의 요소를 묶어서 반환\n",
    "\n"
   ]
  }
 ],
 "metadata": {
  "kernelspec": {
   "display_name": "base",
   "language": "python",
   "name": "python3"
  },
  "language_info": {
   "codemirror_mode": {
    "name": "ipython",
    "version": 3
   },
   "file_extension": ".py",
   "mimetype": "text/x-python",
   "name": "python",
   "nbconvert_exporter": "python",
   "pygments_lexer": "ipython3",
   "version": "3.13.5"
  }
 },
 "nbformat": 4,
 "nbformat_minor": 5
}
