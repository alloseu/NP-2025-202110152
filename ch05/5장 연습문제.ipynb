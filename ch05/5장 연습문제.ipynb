{
 "cells": [
  {
   "cell_type": "markdown",
   "id": "866a5cb2",
   "metadata": {},
   "source": [
    "이 파일은 5장의 연습문제를 정리한 파일입니다.\n",
    "\n",
    "날짜.2025.09.24\n",
    "\n",
    "저자 : 김민규"
   ]
  },
  {
   "cell_type": "markdown",
   "id": "fc2c69ab",
   "metadata": {},
   "source": [
    "연습문제 1\n",
    "\n",
    "두개의 매개변수 n, m을 전달 받아 m x n개의* 상자를 출력하는 프로그램을 함수로 작성\n",
    "예: 2, 4 → \n",
    "\n",
    "**** \n",
    "\n",
    "****"
   ]
  },
  {
   "cell_type": "code",
   "execution_count": null,
   "id": "dc2cbd52",
   "metadata": {},
   "outputs": [],
   "source": [
    "#1번 함수\n",
    "def print_boxes(n, m):\n",
    "    for _ in range(m):\n",
    "        print('*' * n)"
   ]
  },
  {
   "cell_type": "code",
   "execution_count": null,
   "id": "63c5de28",
   "metadata": {},
   "outputs": [],
   "source": [
    "#1번 함수 실행\n",
    "def print_boxes():\n",
    "    n = int(input(\"가로 개수를 입력하세요 (n): \"))\n",
    "    m = int(input(\"세로 개수를 입력하세요 (m): \"))\n",
    "    \n",
    "    for _ in range(m):\n",
    "        print('*' * n)\n",
    "\n",
    "# 함수 실행\n",
    "print_boxes()"
   ]
  },
  {
   "cell_type": "markdown",
   "id": "85f96863",
   "metadata": {},
   "source": [
    "연습문제 2\n",
    "\n",
    "하나의 숫자를 전달받아 숫자의 자리 합을 구하는 함수를 작성\n",
    "\n",
    "예: 123 → 1+2+3 = 6"
   ]
  },
  {
   "cell_type": "code",
   "execution_count": null,
   "id": "9e2483ba",
   "metadata": {},
   "outputs": [],
   "source": [
    "#2번 함수\n",
    "def sum_of_digits(number):\n",
    "    return sum(int(digit) for digit in str(abs(number)))"
   ]
  },
  {
   "cell_type": "code",
   "execution_count": null,
   "id": "2e9630c1",
   "metadata": {},
   "outputs": [],
   "source": [
    "#2번 함수 실행\n",
    "def sum_of_digits(number):\n",
    "    return sum(int(digit) for digit in str(abs(number)))\n",
    "\n",
    "# 사용자 입력 받아서 함수 사용\n",
    "num = int(input(\"숫자를 입력하세요: \"))\n",
    "result = sum_of_digits(num)\n",
    "print(f\"{num}의 자리수 합은 {result}입니다.\")"
   ]
  },
  {
   "cell_type": "markdown",
   "id": "70aa5ab0",
   "metadata": {},
   "source": [
    "연습문제 3\n",
    "\n",
    "두개의 문자열이 서로 다른 처음위치를 반환하는 함수를 작성. 두개의 문자열이 같으면 -1을 반환"
   ]
  },
  {
   "cell_type": "code",
   "execution_count": null,
   "id": "fd1c2887",
   "metadata": {},
   "outputs": [],
   "source": [
    "#3번 함수\n",
    "def first_diff_index(str1, str2):\n",
    "    min_len = min(len(str1), len(str2))\n",
    "    \n",
    "    for i in range(min_len):\n",
    "        if str1[i] != str2[i]:\n",
    "            return i\n",
    "    \n",
    "    # 길이가 다를 경우, 짧은 쪽은 같더라도 그 다음 글자가 다름\n",
    "    if len(str1) != len(str2):\n",
    "        return min_len\n",
    "    \n",
    "    return -1"
   ]
  },
  {
   "cell_type": "code",
   "execution_count": 8,
   "id": "460d5a87",
   "metadata": {},
   "outputs": [
    {
     "name": "stdout",
     "output_type": "stream",
     "text": [
      "2\n",
      "-1\n",
      "3\n"
     ]
    }
   ],
   "source": [
    "#3번 함수 실행\n",
    "def first_diff_index(str1, str2):\n",
    "    min_len = min(len(str1), len(str2))\n",
    "    \n",
    "    for i in range(min_len):\n",
    "        if str1[i] != str2[i]:\n",
    "            return i\n",
    "    \n",
    "    if len(str1) != len(str2):\n",
    "        return min_len\n",
    "    \n",
    "    return -1\n",
    "print(first_diff_index(\"apple\", \"apricot\"))  # 출력: 2\n",
    "print(first_diff_index(\"hello\", \"hello\"))    # 출력: -1\n",
    "print(first_diff_index(\"cat\", \"cats\"))       # 출력: 3\n"
   ]
  },
  {
   "cell_type": "markdown",
   "id": "52688c14",
   "metadata": {},
   "source": [
    "연습문제 4\n",
    "\n",
    "숫자를 전달받아 그 수의 약수를 리스트로 반환하는 함수를 작성"
   ]
  },
  {
   "cell_type": "code",
   "execution_count": 9,
   "id": "463e4a7e",
   "metadata": {},
   "outputs": [],
   "source": [
    "#4번 함수\n",
    "def get_divisors(number):\n",
    "    return [i for i in range(1, number + 1) if number % i == 0]"
   ]
  },
  {
   "cell_type": "code",
   "execution_count": null,
   "id": "e365c7b6",
   "metadata": {},
   "outputs": [
    {
     "name": "stdout",
     "output_type": "stream",
     "text": [
      "[1, 2, 3, 4, 6, 12]\n",
      "[1, 7]\n"
     ]
    }
   ],
   "source": [
    "#4번 함수 실행\n",
    "def get_divisors(number):\n",
    "    return [i for i in range(1, number + 1) if number % i == 0]\n",
    "\n",
    "print(get_divisors(12))  # 출력: [1, 2, 3, 4, 6, 12]\n",
    "print(get_divisors(7))   # 출력: [1, 7]"
   ]
  },
  {
   "cell_type": "markdown",
   "id": "b437086e",
   "metadata": {},
   "source": [
    "연습문제 5\n",
    "\n",
    "문자열과 하나의 문자를 전달받아 문자열에서 문자의 위치를 모두 찾아 리스트로 반환하는 함수를 작성"
   ]
  },
  {
   "cell_type": "code",
   "execution_count": null,
   "id": "b6436c71",
   "metadata": {},
   "outputs": [],
   "source": [
    "#5번 함수\n",
    "def find_char_positions(text, char):\n",
    "    return [i for i, c in enumerate(text) if c == char]"
   ]
  },
  {
   "cell_type": "code",
   "execution_count": 11,
   "id": "48a4bfa0",
   "metadata": {},
   "outputs": [
    {
     "name": "stdout",
     "output_type": "stream",
     "text": [
      "[1, 3, 5]\n",
      "[2, 3]\n",
      "[]\n"
     ]
    }
   ],
   "source": [
    "#5번 함수 실행\n",
    "def find_char_positions(text, char):\n",
    "    return [i for i, c in enumerate(text) if c == char]\n",
    "\n",
    "print(find_char_positions(\"banana\", \"a\"))  # 출력: [1, 3, 5]\n",
    "print(find_char_positions(\"hello\", \"l\"))   # 출력: [2, 3]\n",
    "print(find_char_positions(\"apple\", \"z\"))   # 출력: []"
   ]
  },
  {
   "cell_type": "markdown",
   "id": "ca2ec309",
   "metadata": {},
   "source": [
    "연습문제 6\n",
    "\n",
    "재귀함수를 이용하여 1부터 100까지의 합을 계산하는 프로그램"
   ]
  },
  {
   "cell_type": "code",
   "execution_count": 12,
   "id": "e42b7779",
   "metadata": {},
   "outputs": [
    {
     "name": "stdout",
     "output_type": "stream",
     "text": [
      "1부터 100까지의 합은 5050입니다.\n"
     ]
    }
   ],
   "source": [
    "def recursive_sum(n):\n",
    "    if n == 1:\n",
    "        return 1\n",
    "    else:\n",
    "        return n + recursive_sum(n - 1)\n",
    "\n",
    "# 1부터 100까지의 합 계산\n",
    "result = recursive_sum(100)\n",
    "print(f\"1부터 100까지의 합은 {result}입니다.\")"
   ]
  }
 ],
 "metadata": {
  "kernelspec": {
   "display_name": "base",
   "language": "python",
   "name": "python3"
  },
  "language_info": {
   "codemirror_mode": {
    "name": "ipython",
    "version": 3
   },
   "file_extension": ".py",
   "mimetype": "text/x-python",
   "name": "python",
   "nbconvert_exporter": "python",
   "pygments_lexer": "ipython3",
   "version": "3.13.5"
  }
 },
 "nbformat": 4,
 "nbformat_minor": 5
}
