{
 "cells": [
  {
   "cell_type": "markdown",
   "id": "d16e5483",
   "metadata": {},
   "source": [
    "이 파일은 7장의 연습문제를 작성한 파일입니다.\n",
    "\n",
    "날짜.2025.10.01\n",
    "\n",
    "저자 : 김민규(202110152)"
   ]
  },
  {
   "cell_type": "markdown",
   "id": "d6455770",
   "metadata": {},
   "source": [
    "연습문제 1. math 모듈의 함수를 이용해 임의의 라디안으로, 임의의 라디안을 각도로 변환하는 프로그램을 작성하라."
   ]
  },
  {
   "cell_type": "code",
   "execution_count": null,
   "id": "3a4e03dd",
   "metadata": {},
   "outputs": [],
   "source": [
    "import math\n",
    "radian = float(input(\"라디안 값을 입력하세요: \"))\n",
    "degree = math.degrees(radian)\n",
    "\n",
    "print(f\"{radian} 라디안은 {degree:.2f} 도입니다.\")"
   ]
  },
  {
   "cell_type": "markdown",
   "id": "d5a34eea",
   "metadata": {},
   "source": [
    "연습문제 2. math 모듈의 함수를 이용해(sin30) + cos(30)의 값을 계산하라."
   ]
  },
  {
   "cell_type": "code",
   "execution_count": null,
   "id": "fb3f1f93",
   "metadata": {},
   "outputs": [],
   "source": [
    "import math\n",
    "degree = 30\n",
    "\n",
    "radian = math.radians(degree)\n",
    "result = math.sin(radian) + math.cos(radian)\n",
    "\n",
    "print(f\"sin(30°) + cos(30°) = {result:.4f}\")"
   ]
  },
  {
   "cell_type": "markdown",
   "id": "010aaab2",
   "metadata": {},
   "source": [
    "연습문제 3. 명령어 라인에서 다음과 같이 실행할 때 주어진 숫자의 합을 출력하는 addNumber.py프로그램을 작성하라.\n",
    "\n",
    "-$ python addNumber.py 1 2 3\n",
    "-$ python addNumber.py 1 2 3 4 5 6"
   ]
  },
  {
   "cell_type": "code",
   "execution_count": null,
   "id": "191bf8b2",
   "metadata": {},
   "outputs": [],
   "source": [
    "import sys\n",
    "\n",
    "numbers = sys.argv[1:]\n",
    "total = sum(map(int, numbers))\n",
    "\n",
    "print(\"합계:\", total)"
   ]
  }
 ],
 "metadata": {
  "language_info": {
   "name": "python"
  }
 },
 "nbformat": 4,
 "nbformat_minor": 5
}
