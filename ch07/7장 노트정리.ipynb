{
 "cells": [
  {
   "cell_type": "markdown",
   "id": "d2634d9f",
   "metadata": {},
   "source": [
    "이 파일은 7장을 학습하면서 실행한 내용을 정리한 것 입니다.\n",
    "\n",
    "날짜.2025.09.17\n",
    "\n",
    "저자 : 김민규"
   ]
  },
  {
   "cell_type": "code",
   "execution_count": null,
   "id": "6fbe28a2",
   "metadata": {},
   "outputs": [],
   "source": [
    "모듈 - 함수, 변수, 클래스들을 모아 놓은 파일의 묶음(라이브러리)\n",
    "\n",
    "모듈의 종류\n",
    "- 표준 모듈\n",
    "- 서드 파티 모듈\n",
    "- 사용자 정의 모듈"
   ]
  },
  {
   "cell_type": "markdown",
   "id": "3ed852c2",
   "metadata": {},
   "source": [
    "사용자 정의 모듈\n",
    "\n",
    "모듈은 일반 프로그램과 같이 작성되며 아래와 같은 파일을 myModule.py로 저장한다."
   ]
  },
  {
   "cell_type": "code",
   "execution_count": null,
   "id": "f61ec2ae",
   "metadata": {},
   "outputs": [],
   "source": [
    "def sum(n):\n",
    "    sum = 0\n",
    "    for i in range(1, n+1):\n",
    "        sum = sum + i\n",
    "    return sum\n",
    "\n",
    "def power(x, n):\n",
    "    prod = 1\n",
    "    for i in range(1, n+1):\n",
    "        prod = prod * x\n",
    "    return prod\n",
    "\n",
    "if __name__ == '__main__’: # myModule.py를 직접 호출할 때만 실행됨\n",
    "    print(sum(5))\n",
    "    print(power(2, 3))"
   ]
  },
  {
   "cell_type": "code",
   "execution_count": null,
   "id": "c5426822",
   "metadata": {},
   "outputs": [],
   "source": [
    "#사용자 정의 모듈의 사용\n",
    "import myModule #모듈을 불러온다. 파일이름에서 .py 제외\n",
    "hab = myModule.sum(10) #모듈의 sum 함수 실행\n",
    "pwr = myModule.power(2,3) #모듈의 power 함수 실행\n",
    "print(hab,pwr)"
   ]
  }
 ],
 "metadata": {
  "kernelspec": {
   "display_name": "base",
   "language": "python",
   "name": "python3"
  },
  "language_info": {
   "codemirror_mode": {
    "name": "ipython",
    "version": 3
   },
   "file_extension": ".py",
   "mimetype": "text/x-python",
   "name": "python",
   "nbconvert_exporter": "python",
   "pygments_lexer": "ipython3",
   "version": "3.13.5"
  }
 },
 "nbformat": 4,
 "nbformat_minor": 5
}
