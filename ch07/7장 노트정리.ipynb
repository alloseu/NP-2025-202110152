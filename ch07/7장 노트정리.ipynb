{
 "cells": [
  {
   "cell_type": "markdown",
   "id": "d2634d9f",
   "metadata": {},
   "source": [
    "이 파일은 7장을 학습하면서 실행한 내용을 정리한 것 입니다.\n",
    "\n",
    "날짜.2025.09.17\n",
    "\n",
    "저자 : 김민규"
   ]
  }
 ],
 "metadata": {
  "language_info": {
   "name": "python"
  }
 },
 "nbformat": 4,
 "nbformat_minor": 5
}
